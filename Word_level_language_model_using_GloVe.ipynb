{
  "nbformat": 4,
  "nbformat_minor": 0,
  "metadata": {
    "colab": {
      "name": "Word level language model using GloVe.ipynb",
      "provenance": [],
      "collapsed_sections": [],
      "authorship_tag": "ABX9TyMGYK5Q64sYqeaTaPN7oXxO",
      "include_colab_link": true
    },
    "kernelspec": {
      "name": "python3",
      "display_name": "Python 3"
    },
    "language_info": {
      "name": "python"
    },
    "accelerator": "GPU"
  },
  "cells": [
    {
      "cell_type": "markdown",
      "metadata": {
        "id": "view-in-github",
        "colab_type": "text"
      },
      "source": [
        "<a href=\"https://colab.research.google.com/github/Alihassan7726/Language-Models/blob/main/Word_level_language_model_using_GloVe.ipynb\" target=\"_parent\"><img src=\"https://colab.research.google.com/assets/colab-badge.svg\" alt=\"Open In Colab\"/></a>"
      ]
    },
    {
      "cell_type": "code",
      "metadata": {
        "colab": {
          "base_uri": "https://localhost:8080/"
        },
        "id": "Li0I6JC2yBGA",
        "outputId": "364ba064-a759-4de7-cdce-1d792b9a6a55"
      },
      "source": [
        "from google.colab import drive\n",
        "drive.mount('gdrive')"
      ],
      "execution_count": null,
      "outputs": [
        {
          "output_type": "stream",
          "text": [
            "Mounted at gdrive\n"
          ],
          "name": "stdout"
        }
      ]
    },
    {
      "cell_type": "code",
      "metadata": {
        "id": "eHooxsqxyK4b"
      },
      "source": [
        "import string\n",
        "import numpy as np"
      ],
      "execution_count": null,
      "outputs": []
    },
    {
      "cell_type": "code",
      "metadata": {
        "id": "3VQzS7zrykjK"
      },
      "source": [
        "# load doc into memory\n",
        "def load_doc(filename):\n",
        "\t# open the file as read only\n",
        "\tfile = open(filename, 'r')\n",
        "\t# read all text\n",
        "\ttext = file.read()\n",
        "\t# close the file\n",
        "\tfile.close()\n",
        "\treturn text"
      ],
      "execution_count": null,
      "outputs": []
    },
    {
      "cell_type": "code",
      "metadata": {
        "colab": {
          "base_uri": "https://localhost:8080/"
        },
        "id": "_i6XM37vyqCK",
        "outputId": "0a0e612b-0ddc-4fa4-b64f-cb8a4bd42b07"
      },
      "source": [
        "# load document\n",
        "in_filename = '/content/gdrive/MyDrive/Colab DataSets/socrates.txt'\n",
        "doc = load_doc(in_filename)\n",
        "print(doc[:200])"
      ],
      "execution_count": null,
      "outputs": [
        {
          "output_type": "stream",
          "text": [
            "BOOK I.\n",
            "\n",
            "I went down yesterday to the Piraeus with Glaucon the son of Ariston,\n",
            "that I might offer up my prayers to the goddess (Bendis, the Thracian\n",
            "Artemis.); and also because I wanted to see in what\n"
          ],
          "name": "stdout"
        }
      ]
    },
    {
      "cell_type": "markdown",
      "metadata": {
        "id": "mjsXHCxfy_l7"
      },
      "source": [
        "### Text Cleaning"
      ]
    },
    {
      "cell_type": "code",
      "metadata": {
        "id": "Jy50VByXy2JX"
      },
      "source": [
        "# turn a doc into clean tokens\n",
        "def clean_doc(doc):\n",
        "\t# replace '--' with a space ' '\n",
        "\tdoc = doc.replace('--', ' ')\n",
        "\t# split into tokens by white space\n",
        "\ttokens = doc.split()\n",
        "\t# remove punctuation from each token\n",
        "\ttable = str.maketrans('', '', string.punctuation)\n",
        "\ttokens = [w.translate(table) for w in tokens]\n",
        "\t# remove remaining tokens that are not alphabetic\n",
        "\ttokens = [word for word in tokens if word.isalpha()]\n",
        "\t# make lower case\n",
        "\ttokens = [word.lower() for word in tokens]\n",
        "\treturn tokens"
      ],
      "execution_count": null,
      "outputs": []
    },
    {
      "cell_type": "code",
      "metadata": {
        "id": "mJbKYaQYzB_w",
        "colab": {
          "base_uri": "https://localhost:8080/"
        },
        "outputId": "cdcc9657-1f4c-4e84-ba8e-69859c088c20"
      },
      "source": [
        "# clean document\n",
        "tokens = clean_doc(doc)\n",
        "print(tokens[:200])\n",
        "print('Total Tokens: %d' % len(tokens))\n",
        "print('Unique Tokens: %d' % len(set(tokens)))"
      ],
      "execution_count": null,
      "outputs": [
        {
          "output_type": "stream",
          "text": [
            "['book', 'i', 'i', 'went', 'down', 'yesterday', 'to', 'the', 'piraeus', 'with', 'glaucon', 'the', 'son', 'of', 'ariston', 'that', 'i', 'might', 'offer', 'up', 'my', 'prayers', 'to', 'the', 'goddess', 'bendis', 'the', 'thracian', 'artemis', 'and', 'also', 'because', 'i', 'wanted', 'to', 'see', 'in', 'what', 'manner', 'they', 'would', 'celebrate', 'the', 'festival', 'which', 'was', 'a', 'new', 'thing', 'i', 'was', 'delighted', 'with', 'the', 'procession', 'of', 'the', 'inhabitants', 'but', 'that', 'of', 'the', 'thracians', 'was', 'equally', 'if', 'not', 'more', 'beautiful', 'when', 'we', 'had', 'finished', 'our', 'prayers', 'and', 'viewed', 'the', 'spectacle', 'we', 'turned', 'in', 'the', 'direction', 'of', 'the', 'city', 'and', 'at', 'that', 'instant', 'polemarchus', 'the', 'son', 'of', 'cephalus', 'chanced', 'to', 'catch', 'sight', 'of', 'us', 'from', 'a', 'distance', 'as', 'we', 'were', 'starting', 'on', 'our', 'way', 'home', 'and', 'told', 'his', 'servant', 'to', 'run', 'and', 'bid', 'us', 'wait', 'for', 'him', 'the', 'servant', 'took', 'hold', 'of', 'me', 'by', 'the', 'cloak', 'behind', 'and', 'said', 'polemarchus', 'desires', 'you', 'to', 'wait', 'i', 'turned', 'round', 'and', 'asked', 'him', 'where', 'his', 'master', 'was', 'there', 'he', 'is', 'said', 'the', 'youth', 'coming', 'after', 'you', 'if', 'you', 'will', 'only', 'wait', 'certainly', 'we', 'will', 'said', 'glaucon', 'and', 'in', 'a', 'few', 'minutes', 'polemarchus', 'appeared', 'and', 'with', 'him', 'adeimantus', 'glaucons', 'brother', 'niceratus', 'the', 'son', 'of', 'nicias', 'and', 'several', 'others', 'who', 'had', 'been', 'at', 'the', 'procession', 'polemarchus', 'said']\n",
            "Total Tokens: 118684\n",
            "Unique Tokens: 7409\n"
          ],
          "name": "stdout"
        }
      ]
    },
    {
      "cell_type": "code",
      "metadata": {
        "id": "xBEwj2UkzVr5",
        "colab": {
          "base_uri": "https://localhost:8080/"
        },
        "outputId": "fe526e5d-10fa-458c-eeb2-0ff996eaafd0"
      },
      "source": [
        "## We can organize the long list of tokens into sequences of 50 input words and 1 output word.\n",
        "length = 50 + 1\n",
        "sequences = list()\n",
        "for i in range(length, len(tokens)):\n",
        "\t# select sequence of tokens\n",
        "\tseq = tokens[i-length:i]\n",
        "\t# convert into a line\n",
        "\tline = ' '.join(seq)\n",
        "\t# store\n",
        "\tsequences.append(line)\n",
        "print('Total Sequences: %d' % len(sequences))\n",
        "sequences[:2]"
      ],
      "execution_count": null,
      "outputs": [
        {
          "output_type": "stream",
          "text": [
            "Total Sequences: 118633\n"
          ],
          "name": "stdout"
        },
        {
          "output_type": "execute_result",
          "data": {
            "text/plain": [
              "['book i i went down yesterday to the piraeus with glaucon the son of ariston that i might offer up my prayers to the goddess bendis the thracian artemis and also because i wanted to see in what manner they would celebrate the festival which was a new thing i was',\n",
              " 'i i went down yesterday to the piraeus with glaucon the son of ariston that i might offer up my prayers to the goddess bendis the thracian artemis and also because i wanted to see in what manner they would celebrate the festival which was a new thing i was delighted']"
            ]
          },
          "metadata": {
            "tags": []
          },
          "execution_count": 7
        }
      ]
    },
    {
      "cell_type": "code",
      "metadata": {
        "colab": {
          "base_uri": "https://localhost:8080/",
          "height": 103
        },
        "id": "YMdWaPqX7AES",
        "outputId": "416a8a90-1c2e-4979-8c59-ea637d4286d7"
      },
      "source": [
        "'\\n'.join(sequences[:3])"
      ],
      "execution_count": null,
      "outputs": [
        {
          "output_type": "execute_result",
          "data": {
            "application/vnd.google.colaboratory.intrinsic+json": {
              "type": "string"
            },
            "text/plain": [
              "'book i i went down yesterday to the piraeus with glaucon the son of ariston that i might offer up my prayers to the goddess bendis the thracian artemis and also because i wanted to see in what manner they would celebrate the festival which was a new thing i was\\ni i went down yesterday to the piraeus with glaucon the son of ariston that i might offer up my prayers to the goddess bendis the thracian artemis and also because i wanted to see in what manner they would celebrate the festival which was a new thing i was delighted\\ni went down yesterday to the piraeus with glaucon the son of ariston that i might offer up my prayers to the goddess bendis the thracian artemis and also because i wanted to see in what manner they would celebrate the festival which was a new thing i was delighted with'"
            ]
          },
          "metadata": {
            "tags": []
          },
          "execution_count": 25
        }
      ]
    },
    {
      "cell_type": "code",
      "metadata": {
        "id": "usYD7-mo6RWj"
      },
      "source": [
        "# save tokens to file, one dialog per line\n",
        "def save_doc(lines, filename):\n",
        "\tdata = '\\n'.join(lines)\n",
        "\tfile = open(filename, 'w')\n",
        "\tfile.write(data)\n",
        "\tfile.close()\n",
        " \n",
        " # save sequences to file\n",
        "out_filename = '/content/gdrive/MyDrive/Colab DataSets/socrates_sequences.txt'\n",
        "save_doc(sequences, out_filename)"
      ],
      "execution_count": null,
      "outputs": []
    },
    {
      "cell_type": "markdown",
      "metadata": {
        "id": "fb28L3LY7_dW"
      },
      "source": [
        "### Building GloVe model to learn embeddings"
      ]
    },
    {
      "cell_type": "code",
      "metadata": {
        "colab": {
          "base_uri": "https://localhost:8080/"
        },
        "id": "cjeR68xg7W3w",
        "outputId": "13d2c2b9-9b68-4416-fd31-e19b896f61ad"
      },
      "source": [
        "\n",
        "# load doc into memory\n",
        "def load_doc(filename):\n",
        "\t# open the file as read only\n",
        "\tfile = open(filename, 'r')\n",
        "\t# read all text\n",
        "\ttext = file.read()\n",
        "\t# close the file\n",
        "\tfile.close()\n",
        "\treturn text\n",
        "\n",
        "# load\n",
        "in_filename = '/content/gdrive/MyDrive/Colab DataSets/socrates_sequences.txt'\n",
        "doc = load_doc(in_filename)\n",
        "lines = doc.split('\\n')\n",
        "lines[:3]"
      ],
      "execution_count": null,
      "outputs": [
        {
          "output_type": "execute_result",
          "data": {
            "text/plain": [
              "['book i i went down yesterday to the piraeus with glaucon the son of ariston that i might offer up my prayers to the goddess bendis the thracian artemis and also because i wanted to see in what manner they would celebrate the festival which was a new thing i was',\n",
              " 'i i went down yesterday to the piraeus with glaucon the son of ariston that i might offer up my prayers to the goddess bendis the thracian artemis and also because i wanted to see in what manner they would celebrate the festival which was a new thing i was delighted',\n",
              " 'i went down yesterday to the piraeus with glaucon the son of ariston that i might offer up my prayers to the goddess bendis the thracian artemis and also because i wanted to see in what manner they would celebrate the festival which was a new thing i was delighted with']"
            ]
          },
          "metadata": {
            "tags": []
          },
          "execution_count": 2
        }
      ]
    },
    {
      "cell_type": "code",
      "metadata": {
        "id": "urh3zug18r7G"
      },
      "source": [
        "from tensorflow.keras.preprocessing.text import Tokenizer\n",
        "from nltk.tokenize import word_tokenize\n",
        "from tensorflow.keras.preprocessing.sequence import pad_sequences\n"
      ],
      "execution_count": null,
      "outputs": []
    },
    {
      "cell_type": "code",
      "metadata": {
        "id": "3eeoFlpWOuhm"
      },
      "source": [
        "## Creating corpus to build gloVe \n",
        "from tqdm import tqdm\n",
        "def create_corpus(lines):\n",
        "    corpus=[]\n",
        "    for line in tqdm(lines):\n",
        "        words=[word for word in word_tokenize(line)]\n",
        "        corpus.append(words)\n",
        "    return corpus"
      ],
      "execution_count": null,
      "outputs": []
    },
    {
      "cell_type": "code",
      "metadata": {
        "colab": {
          "base_uri": "https://localhost:8080/"
        },
        "id": "o7UGfbuQPZ0s",
        "outputId": "3a24c908-93ce-4d34-cb65-67c14bcf5cea"
      },
      "source": [
        "import nltk\n",
        "nltk.download('punkt')"
      ],
      "execution_count": null,
      "outputs": [
        {
          "output_type": "stream",
          "text": [
            "[nltk_data] Downloading package punkt to /root/nltk_data...\n",
            "[nltk_data]   Package punkt is already up-to-date!\n"
          ],
          "name": "stdout"
        },
        {
          "output_type": "execute_result",
          "data": {
            "text/plain": [
              "True"
            ]
          },
          "metadata": {
            "tags": []
          },
          "execution_count": 8
        }
      ]
    },
    {
      "cell_type": "code",
      "metadata": {
        "colab": {
          "base_uri": "https://localhost:8080/"
        },
        "collapsed": true,
        "id": "yCdiYmr0PO9L",
        "outputId": "fa8609cf-38ff-474c-a8a1-a4645b57201b"
      },
      "source": [
        "corpus = create_corpus(lines)\n",
        "corpus[:3]"
      ],
      "execution_count": null,
      "outputs": [
        {
          "output_type": "stream",
          "text": [
            "100%|██████████| 118633/118633 [00:24<00:00, 4840.66it/s]\n"
          ],
          "name": "stderr"
        },
        {
          "output_type": "execute_result",
          "data": {
            "text/plain": [
              "[['book',\n",
              "  'i',\n",
              "  'i',\n",
              "  'went',\n",
              "  'down',\n",
              "  'yesterday',\n",
              "  'to',\n",
              "  'the',\n",
              "  'piraeus',\n",
              "  'with',\n",
              "  'glaucon',\n",
              "  'the',\n",
              "  'son',\n",
              "  'of',\n",
              "  'ariston',\n",
              "  'that',\n",
              "  'i',\n",
              "  'might',\n",
              "  'offer',\n",
              "  'up',\n",
              "  'my',\n",
              "  'prayers',\n",
              "  'to',\n",
              "  'the',\n",
              "  'goddess',\n",
              "  'bendis',\n",
              "  'the',\n",
              "  'thracian',\n",
              "  'artemis',\n",
              "  'and',\n",
              "  'also',\n",
              "  'because',\n",
              "  'i',\n",
              "  'wanted',\n",
              "  'to',\n",
              "  'see',\n",
              "  'in',\n",
              "  'what',\n",
              "  'manner',\n",
              "  'they',\n",
              "  'would',\n",
              "  'celebrate',\n",
              "  'the',\n",
              "  'festival',\n",
              "  'which',\n",
              "  'was',\n",
              "  'a',\n",
              "  'new',\n",
              "  'thing',\n",
              "  'i',\n",
              "  'was'],\n",
              " ['i',\n",
              "  'i',\n",
              "  'went',\n",
              "  'down',\n",
              "  'yesterday',\n",
              "  'to',\n",
              "  'the',\n",
              "  'piraeus',\n",
              "  'with',\n",
              "  'glaucon',\n",
              "  'the',\n",
              "  'son',\n",
              "  'of',\n",
              "  'ariston',\n",
              "  'that',\n",
              "  'i',\n",
              "  'might',\n",
              "  'offer',\n",
              "  'up',\n",
              "  'my',\n",
              "  'prayers',\n",
              "  'to',\n",
              "  'the',\n",
              "  'goddess',\n",
              "  'bendis',\n",
              "  'the',\n",
              "  'thracian',\n",
              "  'artemis',\n",
              "  'and',\n",
              "  'also',\n",
              "  'because',\n",
              "  'i',\n",
              "  'wanted',\n",
              "  'to',\n",
              "  'see',\n",
              "  'in',\n",
              "  'what',\n",
              "  'manner',\n",
              "  'they',\n",
              "  'would',\n",
              "  'celebrate',\n",
              "  'the',\n",
              "  'festival',\n",
              "  'which',\n",
              "  'was',\n",
              "  'a',\n",
              "  'new',\n",
              "  'thing',\n",
              "  'i',\n",
              "  'was',\n",
              "  'delighted'],\n",
              " ['i',\n",
              "  'went',\n",
              "  'down',\n",
              "  'yesterday',\n",
              "  'to',\n",
              "  'the',\n",
              "  'piraeus',\n",
              "  'with',\n",
              "  'glaucon',\n",
              "  'the',\n",
              "  'son',\n",
              "  'of',\n",
              "  'ariston',\n",
              "  'that',\n",
              "  'i',\n",
              "  'might',\n",
              "  'offer',\n",
              "  'up',\n",
              "  'my',\n",
              "  'prayers',\n",
              "  'to',\n",
              "  'the',\n",
              "  'goddess',\n",
              "  'bendis',\n",
              "  'the',\n",
              "  'thracian',\n",
              "  'artemis',\n",
              "  'and',\n",
              "  'also',\n",
              "  'because',\n",
              "  'i',\n",
              "  'wanted',\n",
              "  'to',\n",
              "  'see',\n",
              "  'in',\n",
              "  'what',\n",
              "  'manner',\n",
              "  'they',\n",
              "  'would',\n",
              "  'celebrate',\n",
              "  'the',\n",
              "  'festival',\n",
              "  'which',\n",
              "  'was',\n",
              "  'a',\n",
              "  'new',\n",
              "  'thing',\n",
              "  'i',\n",
              "  'was',\n",
              "  'delighted',\n",
              "  'with']]"
            ]
          },
          "metadata": {
            "tags": []
          },
          "execution_count": 9
        }
      ]
    },
    {
      "cell_type": "code",
      "metadata": {
        "colab": {
          "base_uri": "https://localhost:8080/"
        },
        "id": "dmQsZmjdQOtm",
        "outputId": "5b7b21c8-ec3d-41c7-8167-eb0cefa2011a"
      },
      "source": [
        "!pip install glove-python-binary"
      ],
      "execution_count": null,
      "outputs": [
        {
          "output_type": "stream",
          "text": [
            "Collecting glove-python-binary\n",
            "\u001b[?25l  Downloading https://files.pythonhosted.org/packages/cc/11/d8510a80110f736822856db566341dd2e1e7c3af536f77e409a6c09e0c22/glove_python_binary-0.2.0-cp37-cp37m-manylinux1_x86_64.whl (948kB)\n",
            "\r\u001b[K     |▍                               | 10kB 21.2MB/s eta 0:00:01\r\u001b[K     |▊                               | 20kB 28.6MB/s eta 0:00:01\r\u001b[K     |█                               | 30kB 22.6MB/s eta 0:00:01\r\u001b[K     |█▍                              | 40kB 26.3MB/s eta 0:00:01\r\u001b[K     |█▊                              | 51kB 24.4MB/s eta 0:00:01\r\u001b[K     |██                              | 61kB 27.0MB/s eta 0:00:01\r\u001b[K     |██▍                             | 71kB 18.0MB/s eta 0:00:01\r\u001b[K     |██▊                             | 81kB 19.0MB/s eta 0:00:01\r\u001b[K     |███                             | 92kB 17.8MB/s eta 0:00:01\r\u001b[K     |███▌                            | 102kB 18.0MB/s eta 0:00:01\r\u001b[K     |███▉                            | 112kB 18.0MB/s eta 0:00:01\r\u001b[K     |████▏                           | 122kB 18.0MB/s eta 0:00:01\r\u001b[K     |████▌                           | 133kB 18.0MB/s eta 0:00:01\r\u001b[K     |████▉                           | 143kB 18.0MB/s eta 0:00:01\r\u001b[K     |█████▏                          | 153kB 18.0MB/s eta 0:00:01\r\u001b[K     |█████▌                          | 163kB 18.0MB/s eta 0:00:01\r\u001b[K     |█████▉                          | 174kB 18.0MB/s eta 0:00:01\r\u001b[K     |██████▏                         | 184kB 18.0MB/s eta 0:00:01\r\u001b[K     |██████▋                         | 194kB 18.0MB/s eta 0:00:01\r\u001b[K     |███████                         | 204kB 18.0MB/s eta 0:00:01\r\u001b[K     |███████▎                        | 215kB 18.0MB/s eta 0:00:01\r\u001b[K     |███████▋                        | 225kB 18.0MB/s eta 0:00:01\r\u001b[K     |████████                        | 235kB 18.0MB/s eta 0:00:01\r\u001b[K     |████████▎                       | 245kB 18.0MB/s eta 0:00:01\r\u001b[K     |████████▋                       | 256kB 18.0MB/s eta 0:00:01\r\u001b[K     |█████████                       | 266kB 18.0MB/s eta 0:00:01\r\u001b[K     |█████████▎                      | 276kB 18.0MB/s eta 0:00:01\r\u001b[K     |█████████▊                      | 286kB 18.0MB/s eta 0:00:01\r\u001b[K     |██████████                      | 296kB 18.0MB/s eta 0:00:01\r\u001b[K     |██████████▍                     | 307kB 18.0MB/s eta 0:00:01\r\u001b[K     |██████████▊                     | 317kB 18.0MB/s eta 0:00:01\r\u001b[K     |███████████                     | 327kB 18.0MB/s eta 0:00:01\r\u001b[K     |███████████▍                    | 337kB 18.0MB/s eta 0:00:01\r\u001b[K     |███████████▊                    | 348kB 18.0MB/s eta 0:00:01\r\u001b[K     |████████████                    | 358kB 18.0MB/s eta 0:00:01\r\u001b[K     |████████████▍                   | 368kB 18.0MB/s eta 0:00:01\r\u001b[K     |████████████▊                   | 378kB 18.0MB/s eta 0:00:01\r\u001b[K     |█████████████▏                  | 389kB 18.0MB/s eta 0:00:01\r\u001b[K     |█████████████▌                  | 399kB 18.0MB/s eta 0:00:01\r\u001b[K     |█████████████▉                  | 409kB 18.0MB/s eta 0:00:01\r\u001b[K     |██████████████▏                 | 419kB 18.0MB/s eta 0:00:01\r\u001b[K     |██████████████▌                 | 430kB 18.0MB/s eta 0:00:01\r\u001b[K     |██████████████▉                 | 440kB 18.0MB/s eta 0:00:01\r\u001b[K     |███████████████▏                | 450kB 18.0MB/s eta 0:00:01\r\u001b[K     |███████████████▌                | 460kB 18.0MB/s eta 0:00:01\r\u001b[K     |███████████████▉                | 471kB 18.0MB/s eta 0:00:01\r\u001b[K     |████████████████▎               | 481kB 18.0MB/s eta 0:00:01\r\u001b[K     |████████████████▋               | 491kB 18.0MB/s eta 0:00:01\r\u001b[K     |█████████████████               | 501kB 18.0MB/s eta 0:00:01\r\u001b[K     |█████████████████▎              | 512kB 18.0MB/s eta 0:00:01\r\u001b[K     |█████████████████▋              | 522kB 18.0MB/s eta 0:00:01\r\u001b[K     |██████████████████              | 532kB 18.0MB/s eta 0:00:01\r\u001b[K     |██████████████████▎             | 542kB 18.0MB/s eta 0:00:01\r\u001b[K     |██████████████████▋             | 552kB 18.0MB/s eta 0:00:01\r\u001b[K     |███████████████████             | 563kB 18.0MB/s eta 0:00:01\r\u001b[K     |███████████████████▍            | 573kB 18.0MB/s eta 0:00:01\r\u001b[K     |███████████████████▊            | 583kB 18.0MB/s eta 0:00:01\r\u001b[K     |████████████████████            | 593kB 18.0MB/s eta 0:00:01\r\u001b[K     |████████████████████▍           | 604kB 18.0MB/s eta 0:00:01\r\u001b[K     |████████████████████▊           | 614kB 18.0MB/s eta 0:00:01\r\u001b[K     |█████████████████████           | 624kB 18.0MB/s eta 0:00:01\r\u001b[K     |█████████████████████▍          | 634kB 18.0MB/s eta 0:00:01\r\u001b[K     |█████████████████████▊          | 645kB 18.0MB/s eta 0:00:01\r\u001b[K     |██████████████████████          | 655kB 18.0MB/s eta 0:00:01\r\u001b[K     |██████████████████████▌         | 665kB 18.0MB/s eta 0:00:01\r\u001b[K     |██████████████████████▉         | 675kB 18.0MB/s eta 0:00:01\r\u001b[K     |███████████████████████▏        | 686kB 18.0MB/s eta 0:00:01\r\u001b[K     |███████████████████████▌        | 696kB 18.0MB/s eta 0:00:01\r\u001b[K     |███████████████████████▉        | 706kB 18.0MB/s eta 0:00:01\r\u001b[K     |████████████████████████▏       | 716kB 18.0MB/s eta 0:00:01\r\u001b[K     |████████████████████████▌       | 727kB 18.0MB/s eta 0:00:01\r\u001b[K     |████████████████████████▉       | 737kB 18.0MB/s eta 0:00:01\r\u001b[K     |█████████████████████████▏      | 747kB 18.0MB/s eta 0:00:01\r\u001b[K     |█████████████████████████▌      | 757kB 18.0MB/s eta 0:00:01\r\u001b[K     |██████████████████████████      | 768kB 18.0MB/s eta 0:00:01\r\u001b[K     |██████████████████████████▎     | 778kB 18.0MB/s eta 0:00:01\r\u001b[K     |██████████████████████████▋     | 788kB 18.0MB/s eta 0:00:01\r\u001b[K     |███████████████████████████     | 798kB 18.0MB/s eta 0:00:01\r\u001b[K     |███████████████████████████▎    | 808kB 18.0MB/s eta 0:00:01\r\u001b[K     |███████████████████████████▋    | 819kB 18.0MB/s eta 0:00:01\r\u001b[K     |████████████████████████████    | 829kB 18.0MB/s eta 0:00:01\r\u001b[K     |████████████████████████████▎   | 839kB 18.0MB/s eta 0:00:01\r\u001b[K     |████████████████████████████▋   | 849kB 18.0MB/s eta 0:00:01\r\u001b[K     |█████████████████████████████   | 860kB 18.0MB/s eta 0:00:01\r\u001b[K     |█████████████████████████████▍  | 870kB 18.0MB/s eta 0:00:01\r\u001b[K     |█████████████████████████████▊  | 880kB 18.0MB/s eta 0:00:01\r\u001b[K     |██████████████████████████████  | 890kB 18.0MB/s eta 0:00:01\r\u001b[K     |██████████████████████████████▍ | 901kB 18.0MB/s eta 0:00:01\r\u001b[K     |██████████████████████████████▊ | 911kB 18.0MB/s eta 0:00:01\r\u001b[K     |███████████████████████████████ | 921kB 18.0MB/s eta 0:00:01\r\u001b[K     |███████████████████████████████▍| 931kB 18.0MB/s eta 0:00:01\r\u001b[K     |███████████████████████████████▊| 942kB 18.0MB/s eta 0:00:01\r\u001b[K     |████████████████████████████████| 952kB 18.0MB/s \n",
            "\u001b[?25hRequirement already satisfied: scipy in /usr/local/lib/python3.7/dist-packages (from glove-python-binary) (1.4.1)\n",
            "Requirement already satisfied: numpy in /usr/local/lib/python3.7/dist-packages (from glove-python-binary) (1.19.5)\n",
            "Installing collected packages: glove-python-binary\n",
            "Successfully installed glove-python-binary-0.2.0\n"
          ],
          "name": "stdout"
        }
      ]
    },
    {
      "cell_type": "code",
      "metadata": {
        "id": "umaxuWKaQLri"
      },
      "source": [
        "from glove import Corpus, Glove"
      ],
      "execution_count": null,
      "outputs": []
    },
    {
      "cell_type": "code",
      "metadata": {
        "id": "njjidb2MQk08"
      },
      "source": [
        "glove_corpus = Corpus()\n",
        "glove_corpus.fit(corpus, window=5)"
      ],
      "execution_count": null,
      "outputs": []
    },
    {
      "cell_type": "code",
      "metadata": {
        "colab": {
          "base_uri": "https://localhost:8080/"
        },
        "id": "7mPoVAFhQkpS",
        "outputId": "a57da9ff-9928-4aef-f085-103fcc041454"
      },
      "source": [
        "glove = Glove(no_components=300, learning_rate=0.05)\n",
        "glove_corpus.matrix"
      ],
      "execution_count": null,
      "outputs": [
        {
          "output_type": "execute_result",
          "data": {
            "text/plain": [
              "<7408x7408 sparse matrix of type '<class 'numpy.float64'>'\n",
              "\twith 298273 stored elements in COOrdinate format>"
            ]
          },
          "metadata": {
            "tags": []
          },
          "execution_count": 11
        }
      ]
    },
    {
      "cell_type": "code",
      "metadata": {
        "colab": {
          "base_uri": "https://localhost:8080/"
        },
        "id": "h58jWNnmQkg5",
        "outputId": "f69d64bc-13ec-4862-e7ce-2b6be9a80e15"
      },
      "source": [
        "glove.fit(glove_corpus.matrix, epochs=100, no_threads=4, verbose=True)"
      ],
      "execution_count": null,
      "outputs": [
        {
          "output_type": "stream",
          "text": [
            "Epoch 90\n",
            "Epoch 91\n",
            "Epoch 92\n",
            "Epoch 93\n",
            "Epoch 94\n",
            "Epoch 95\n",
            "Epoch 96\n",
            "Epoch 97\n",
            "Epoch 98\n",
            "Epoch 99\n"
          ],
          "name": "stdout"
        }
      ]
    },
    {
      "cell_type": "code",
      "metadata": {
        "id": "fstCswy3QkXo"
      },
      "source": [
        "glove.add_dictionary(glove_corpus.dictionary)"
      ],
      "execution_count": null,
      "outputs": []
    },
    {
      "cell_type": "code",
      "metadata": {
        "colab": {
          "base_uri": "https://localhost:8080/"
        },
        "id": "QBYR7DXEQkNY",
        "outputId": "65f5b2db-b71d-42fa-e753-486de8d96872"
      },
      "source": [
        "glove.most_similar('glaucon')"
      ],
      "execution_count": null,
      "outputs": [
        {
          "output_type": "execute_result",
          "data": {
            "text/plain": [
              "[('requested', 0.6448431484418098),\n",
              " ('perverse', 0.6101077233205933),\n",
              " ('admirer', 0.5511954142977035),\n",
              " ('dear', 0.5458896901192136)]"
            ]
          },
          "metadata": {
            "tags": []
          },
          "execution_count": 14
        }
      ]
    },
    {
      "cell_type": "code",
      "metadata": {
        "colab": {
          "base_uri": "https://localhost:8080/"
        },
        "id": "Mwis9lcOQj9d",
        "outputId": "47dda1b8-7800-4b56-f947-75d491c83664"
      },
      "source": [
        "glove.most_similar('celebrate')"
      ],
      "execution_count": null,
      "outputs": [
        {
          "output_type": "execute_result",
          "data": {
            "text/plain": [
              "[('imperishable', 0.8802873262458321),\n",
              " ('overpowered', 0.87995233435774),\n",
              " ('scourged', 0.8741833316427847),\n",
              " ('maddest', 0.8725698252917115)]"
            ]
          },
          "metadata": {
            "tags": []
          },
          "execution_count": 15
        }
      ]
    },
    {
      "cell_type": "code",
      "metadata": {
        "colab": {
          "base_uri": "https://localhost:8080/"
        },
        "id": "oYZhpnLQR1XB",
        "outputId": "45638315-3c1a-42db-97d3-a0b4286c7798"
      },
      "source": [
        "print(glove.word_vectors.shape)"
      ],
      "execution_count": null,
      "outputs": [
        {
          "output_type": "stream",
          "text": [
            "(7408, 300)\n"
          ],
          "name": "stdout"
        }
      ]
    },
    {
      "cell_type": "code",
      "metadata": {
        "colab": {
          "base_uri": "https://localhost:8080/"
        },
        "collapsed": true,
        "id": "1U23-EVkUGIo",
        "outputId": "ddb73a75-c7b4-4560-a161-5f06a9a879ea"
      },
      "source": [
        "dir(glove)"
      ],
      "execution_count": null,
      "outputs": [
        {
          "output_type": "execute_result",
          "data": {
            "text/plain": [
              "['__class__',\n",
              " '__delattr__',\n",
              " '__dict__',\n",
              " '__dir__',\n",
              " '__doc__',\n",
              " '__eq__',\n",
              " '__format__',\n",
              " '__ge__',\n",
              " '__getattribute__',\n",
              " '__gt__',\n",
              " '__hash__',\n",
              " '__init__',\n",
              " '__init_subclass__',\n",
              " '__le__',\n",
              " '__lt__',\n",
              " '__module__',\n",
              " '__ne__',\n",
              " '__new__',\n",
              " '__reduce__',\n",
              " '__reduce_ex__',\n",
              " '__repr__',\n",
              " '__setattr__',\n",
              " '__sizeof__',\n",
              " '__str__',\n",
              " '__subclasshook__',\n",
              " '__weakref__',\n",
              " '_similarity_query',\n",
              " 'add_dictionary',\n",
              " 'alpha',\n",
              " 'biases_sum_gradients',\n",
              " 'dictionary',\n",
              " 'fit',\n",
              " 'inverse_dictionary',\n",
              " 'learning_rate',\n",
              " 'load',\n",
              " 'load_stanford',\n",
              " 'max_count',\n",
              " 'max_loss',\n",
              " 'most_similar',\n",
              " 'most_similar_paragraph',\n",
              " 'no_components',\n",
              " 'random_state',\n",
              " 'save',\n",
              " 'transform_paragraph',\n",
              " 'vectors_sum_gradients',\n",
              " 'word_biases',\n",
              " 'word_vectors']"
            ]
          },
          "metadata": {
            "tags": []
          },
          "execution_count": 29
        }
      ]
    },
    {
      "cell_type": "code",
      "metadata": {
        "colab": {
          "base_uri": "https://localhost:8080/"
        },
        "id": "jIviOwLfTrax",
        "outputId": "2c394072-d4a1-4578-fb8a-11cf762f943a"
      },
      "source": [
        "glove.word_vectors"
      ],
      "execution_count": null,
      "outputs": [
        {
          "output_type": "execute_result",
          "data": {
            "text/plain": [
              "array([[ 0.08130634, -0.02137271, -0.11304898, ...,  0.15917209,\n",
              "        -0.00745882, -0.41285779],\n",
              "       [ 0.30462347, -0.35249524, -0.23140721, ...,  0.62549208,\n",
              "         0.38317353,  0.05759389],\n",
              "       [ 0.1384654 , -0.03672953, -0.14108673, ...,  0.00177653,\n",
              "        -0.0516151 ,  0.09366849],\n",
              "       ...,\n",
              "       [ 0.15985889, -0.11373138, -0.16251841, ..., -0.08066703,\n",
              "         0.01054506, -0.19335764],\n",
              "       [ 0.12837377,  0.02778205, -0.12772698, ..., -0.00648152,\n",
              "         0.0386688 , -0.13218314],\n",
              "       [ 0.12355593, -0.11804162, -0.13651158, ...,  0.1011807 ,\n",
              "         0.00142053, -0.12206934]])"
            ]
          },
          "metadata": {
            "tags": []
          },
          "execution_count": 28
        }
      ]
    },
    {
      "cell_type": "code",
      "metadata": {
        "colab": {
          "base_uri": "https://localhost:8080/"
        },
        "id": "_g179MU4UYYx",
        "outputId": "673589de-c75e-47b4-fe5f-283d6fbdfbeb"
      },
      "source": [
        "## Inversing dictionary to further making a new dictionary for words and their vectors\n",
        "word_idx_dic = glove.inverse_dictionary\n",
        "print(len(word_idx_dic))"
      ],
      "execution_count": null,
      "outputs": [
        {
          "output_type": "stream",
          "text": [
            "7408\n"
          ],
          "name": "stdout"
        }
      ]
    },
    {
      "cell_type": "code",
      "metadata": {
        "colab": {
          "base_uri": "https://localhost:8080/"
        },
        "collapsed": true,
        "id": "7SCEPL9JU73G",
        "outputId": "5fd105ab-fa98-432b-96fd-a62ade78099f"
      },
      "source": [
        "embedding_index = {}\n",
        "\n",
        "for idx , word in word_idx_dic.items():\n",
        "  vector = glove.word_vectors[idx]\n",
        "  embedding_index[word] = vector\n",
        "print(len(embedding_index))"
      ],
      "execution_count": null,
      "outputs": [
        {
          "output_type": "stream",
          "text": [
            "7408\n"
          ],
          "name": "stdout"
        }
      ]
    },
    {
      "cell_type": "code",
      "metadata": {
        "colab": {
          "base_uri": "https://localhost:8080/"
        },
        "collapsed": true,
        "id": "74W0JbteR1Ql",
        "outputId": "6ed2bbc3-29cc-4dc8-d770-cd80bc174c0d"
      },
      "source": [
        "embedding_index.get('celebrate')"
      ],
      "execution_count": null,
      "outputs": [
        {
          "output_type": "execute_result",
          "data": {
            "text/plain": [
              "array([ 1.01768066e-01, -1.06537480e-01, -1.04187260e-01,  1.39433275e-01,\n",
              "       -1.12835522e-01,  9.21147328e-02, -9.69899151e-02, -4.43506222e-03,\n",
              "       -1.08592464e-01, -9.60213695e-02,  1.05557103e-01,  2.25099322e-01,\n",
              "       -7.53851966e-02,  7.00105532e-03,  1.09569938e-01, -6.89260435e-02,\n",
              "        1.48587259e-01, -7.10263363e-02,  1.37428969e-01, -1.21929492e-01,\n",
              "        2.43641872e-02, -1.88357000e-02, -1.95394740e-01, -9.52634369e-02,\n",
              "        8.37063504e-02,  1.07416652e-01, -1.43695577e-01,  1.19678248e-01,\n",
              "        1.12664278e-01, -5.47817834e-02, -5.80592204e-02,  1.66667546e-01,\n",
              "        1.03633242e-03,  3.08846982e-02,  4.86717378e-02,  5.43536095e-02,\n",
              "       -1.09048738e-01, -1.11992439e-01,  7.66844376e-04, -3.55252456e-02,\n",
              "       -6.04879009e-03, -1.15408970e-01, -9.40256948e-02, -9.96294587e-02,\n",
              "       -1.79972905e-01, -8.90505854e-02, -3.69110507e-02, -1.04634338e-01,\n",
              "        2.90704536e-02,  7.06109918e-02,  1.82023879e-01,  4.27836149e-03,\n",
              "       -7.92387286e-02, -1.06058419e-01, -7.47775293e-02, -6.92538359e-02,\n",
              "       -1.13121319e-01, -8.59103524e-02,  1.18043925e-01,  2.82708974e-02,\n",
              "       -1.04704124e-01, -1.16003136e-01,  1.02012945e-01, -6.23855925e-02,\n",
              "        1.33389169e-01, -1.39102180e-01, -1.30528424e-01, -1.33164852e-01,\n",
              "        1.23355276e-01, -1.18371840e-01, -1.03706058e-01, -1.19337948e-01,\n",
              "       -1.10769973e-01,  8.63875503e-02,  1.76318720e-01,  9.69645301e-02,\n",
              "       -1.05954046e-01,  5.38723612e-02, -3.77108271e-02, -1.20579570e-02,\n",
              "       -1.15327740e-01, -1.09996371e-01, -1.20452105e-01, -8.15358020e-02,\n",
              "       -1.38530466e-02, -7.57750559e-02,  1.09790244e-01,  4.03281158e-02,\n",
              "       -2.44295605e-02, -1.07973440e-01, -1.42430789e-01,  1.11531845e-01,\n",
              "       -1.68396376e-01,  1.11898247e-01, -1.12123824e-01, -1.77527824e-02,\n",
              "       -1.78291802e-04, -1.54174679e-01, -7.64889097e-02,  9.04527139e-02,\n",
              "        2.38052589e-03, -1.47034657e-01, -1.21418303e-01,  1.01338105e-01,\n",
              "       -1.08742426e-01, -1.99783492e-01, -1.00698199e-01, -3.18396642e-02,\n",
              "        5.27218786e-02, -9.09980250e-02, -1.26647706e-01,  7.18231392e-02,\n",
              "       -6.29651620e-04,  1.20188977e-01,  6.21385556e-02,  9.63046948e-02,\n",
              "       -4.07450718e-02,  7.57036340e-02,  1.14594997e-01, -1.01533834e-01,\n",
              "       -1.10262089e-01,  6.79454808e-02,  3.68707390e-02, -1.04970687e-01,\n",
              "        7.52271254e-02, -7.60726828e-02, -1.12299730e-01,  1.00347765e-01,\n",
              "        1.71649845e-01, -1.03269891e-01,  9.53478488e-02,  1.01613960e-01,\n",
              "        4.80796436e-02,  9.21691041e-02,  1.42043730e-01, -1.36189695e-01,\n",
              "        6.34225653e-02,  1.46574795e-01, -1.03177398e-01,  6.05619206e-03,\n",
              "        1.86951220e-01, -2.87160103e-02,  9.59420069e-02, -9.91535183e-02,\n",
              "        8.95295187e-02, -9.28919509e-02,  1.56477324e-01,  1.22448398e-01,\n",
              "        1.19605730e-01, -4.77718176e-02,  9.59654811e-02,  1.25246092e-01,\n",
              "       -1.41878635e-01, -1.21858597e-01,  8.21013683e-02, -9.64289386e-02,\n",
              "        6.83738754e-02,  2.71758503e-02,  1.04412833e-01,  1.04292458e-01,\n",
              "       -6.92243067e-02,  3.54271038e-02,  1.02298343e-01, -1.09988958e-01,\n",
              "        1.13626261e-01,  1.16182164e-01, -1.06471187e-01,  1.17219351e-01,\n",
              "       -7.49248647e-02,  1.16299853e-01, -1.14147512e-01, -5.96983695e-02,\n",
              "        2.42455916e-02, -1.78864193e-01, -6.74668734e-02, -1.57421437e-01,\n",
              "        9.55826735e-02,  1.13576377e-01, -1.26040900e-01, -9.69878075e-02,\n",
              "       -7.29850261e-02,  7.11507133e-02,  7.28455886e-02,  4.29527101e-02,\n",
              "        1.12510333e-01,  1.50591728e-01,  1.04296937e-01, -1.65288988e-01,\n",
              "       -6.49745171e-02, -1.07251108e-01, -1.00792343e-01,  9.06773558e-02,\n",
              "       -1.64595753e-01, -1.39274101e-01, -1.38371467e-01,  1.03170848e-01,\n",
              "       -9.97616119e-02,  1.78034883e-02,  3.34515299e-02, -1.84100014e-01])"
            ]
          },
          "metadata": {
            "tags": []
          },
          "execution_count": 38
        }
      ]
    },
    {
      "cell_type": "markdown",
      "metadata": {
        "id": "5PSoaE7MWiH_"
      },
      "source": [
        "## Creating weight matrix for words"
      ]
    },
    {
      "cell_type": "code",
      "metadata": {
        "colab": {
          "base_uri": "https://localhost:8080/"
        },
        "collapsed": true,
        "id": "tJa4jwbgR1Ip",
        "outputId": "7b182817-346e-4387-de6e-241b0dec398c"
      },
      "source": [
        "# Transforms each text in texts to a sequence of integers.\n",
        "tokenizer_obj = Tokenizer() \n",
        "tokenizer_obj.fit_on_texts(lines) \n",
        "sequences=tokenizer_obj.texts_to_sequences(lines) \n",
        "print(len(sequences))\n",
        "sequences[:3]"
      ],
      "execution_count": null,
      "outputs": [
        {
          "output_type": "stream",
          "text": [
            "118633\n"
          ],
          "name": "stdout"
        },
        {
          "output_type": "execute_result",
          "data": {
            "text/plain": [
              "[[1046,\n",
              "  11,\n",
              "  11,\n",
              "  1045,\n",
              "  329,\n",
              "  7409,\n",
              "  4,\n",
              "  1,\n",
              "  2873,\n",
              "  35,\n",
              "  213,\n",
              "  1,\n",
              "  261,\n",
              "  3,\n",
              "  2251,\n",
              "  9,\n",
              "  11,\n",
              "  179,\n",
              "  817,\n",
              "  123,\n",
              "  92,\n",
              "  2872,\n",
              "  4,\n",
              "  1,\n",
              "  2249,\n",
              "  7408,\n",
              "  1,\n",
              "  7407,\n",
              "  7406,\n",
              "  2,\n",
              "  75,\n",
              "  120,\n",
              "  11,\n",
              "  1266,\n",
              "  4,\n",
              "  110,\n",
              "  6,\n",
              "  30,\n",
              "  168,\n",
              "  16,\n",
              "  49,\n",
              "  7405,\n",
              "  1,\n",
              "  1609,\n",
              "  13,\n",
              "  57,\n",
              "  8,\n",
              "  549,\n",
              "  151,\n",
              "  11,\n",
              "  57],\n",
              " [11,\n",
              "  11,\n",
              "  1045,\n",
              "  329,\n",
              "  7409,\n",
              "  4,\n",
              "  1,\n",
              "  2873,\n",
              "  35,\n",
              "  213,\n",
              "  1,\n",
              "  261,\n",
              "  3,\n",
              "  2251,\n",
              "  9,\n",
              "  11,\n",
              "  179,\n",
              "  817,\n",
              "  123,\n",
              "  92,\n",
              "  2872,\n",
              "  4,\n",
              "  1,\n",
              "  2249,\n",
              "  7408,\n",
              "  1,\n",
              "  7407,\n",
              "  7406,\n",
              "  2,\n",
              "  75,\n",
              "  120,\n",
              "  11,\n",
              "  1266,\n",
              "  4,\n",
              "  110,\n",
              "  6,\n",
              "  30,\n",
              "  168,\n",
              "  16,\n",
              "  49,\n",
              "  7405,\n",
              "  1,\n",
              "  1609,\n",
              "  13,\n",
              "  57,\n",
              "  8,\n",
              "  549,\n",
              "  151,\n",
              "  11,\n",
              "  57,\n",
              "  1147],\n",
              " [11,\n",
              "  1045,\n",
              "  329,\n",
              "  7409,\n",
              "  4,\n",
              "  1,\n",
              "  2873,\n",
              "  35,\n",
              "  213,\n",
              "  1,\n",
              "  261,\n",
              "  3,\n",
              "  2251,\n",
              "  9,\n",
              "  11,\n",
              "  179,\n",
              "  817,\n",
              "  123,\n",
              "  92,\n",
              "  2872,\n",
              "  4,\n",
              "  1,\n",
              "  2249,\n",
              "  7408,\n",
              "  1,\n",
              "  7407,\n",
              "  7406,\n",
              "  2,\n",
              "  75,\n",
              "  120,\n",
              "  11,\n",
              "  1266,\n",
              "  4,\n",
              "  110,\n",
              "  6,\n",
              "  30,\n",
              "  168,\n",
              "  16,\n",
              "  49,\n",
              "  7405,\n",
              "  1,\n",
              "  1609,\n",
              "  13,\n",
              "  57,\n",
              "  8,\n",
              "  549,\n",
              "  151,\n",
              "  11,\n",
              "  57,\n",
              "  1147,\n",
              "  35]]"
            ]
          },
          "metadata": {
            "tags": []
          },
          "execution_count": 19
        }
      ]
    },
    {
      "cell_type": "code",
      "metadata": {
        "colab": {
          "base_uri": "https://localhost:8080/"
        },
        "id": "AXF_LjdF8oGc",
        "outputId": "800005a2-0ddd-4c4b-d4e3-6c60ff803a9d"
      },
      "source": [
        "word_index=tokenizer_obj.word_index\n",
        "vocab_size = len(word_index)+1\n",
        "print('Number of unique words:',vocab_size)"
      ],
      "execution_count": null,
      "outputs": [
        {
          "output_type": "stream",
          "text": [
            "Number of unique words: 7410\n"
          ],
          "name": "stdout"
        }
      ]
    },
    {
      "cell_type": "code",
      "metadata": {
        "id": "FWyhdfrRXT7O"
      },
      "source": [
        "embedding_matrix = np.zeros((vocab_size, 300))\n",
        "for word, i in tokenizer_obj.word_index.items():\n",
        "    try:\n",
        "        embedding_vector = embeddings_index.get(word)\n",
        "        if embedding_vector:\n",
        "            embedding_matrix[i] = embedding_vector\n",
        "    except:\n",
        "        pass"
      ],
      "execution_count": null,
      "outputs": []
    },
    {
      "cell_type": "code",
      "metadata": {
        "id": "W2R_9U9JXymn"
      },
      "source": [
        "#padding=pad_sequences(sequences,maxlen=51,truncating='post',padding='pre')\n",
        "\n",
        "#print(len(sequences))\n",
        "#print(padding.shape)\n",
        "#padding"
      ],
      "execution_count": null,
      "outputs": []
    },
    {
      "cell_type": "code",
      "metadata": {
        "colab": {
          "base_uri": "https://localhost:8080/"
        },
        "collapsed": true,
        "id": "nZY745OMYncA",
        "outputId": "d6e07212-4e5f-481a-f39a-34984ff3ae0a"
      },
      "source": [
        "idx = glove.dictionary['i']\n",
        "glove.word_vectors[idx]"
      ],
      "execution_count": null,
      "outputs": [
        {
          "output_type": "execute_result",
          "data": {
            "text/plain": [
              "array([-1.76497423e-01,  7.76970039e-03,  2.64180867e-01,  3.62026901e-01,\n",
              "        8.35547312e-02,  3.37949357e-02,  9.88658683e-02,  1.16313651e-01,\n",
              "        1.80103364e-01, -2.87718805e-02,  7.97602320e-01, -1.40438220e-01,\n",
              "        1.63725932e-02,  2.50410568e-01,  1.52533625e-01, -1.04266798e+00,\n",
              "       -1.07756724e-01,  8.57791113e-02, -1.00160423e-01,  2.38509429e-04,\n",
              "        5.45795347e-01,  9.45021226e-02,  6.54612394e-02, -1.22585088e-02,\n",
              "       -6.01224104e-02,  3.13713700e-02, -2.48669530e-01, -2.32619519e-01,\n",
              "        3.74613181e-02, -2.58312116e-01, -2.02133301e-02, -9.82397446e-02,\n",
              "       -1.21153163e-01,  3.89657812e-01,  5.18970503e-02,  9.00497488e-02,\n",
              "       -2.80083208e-02, -4.60343219e-02, -8.85630357e-02,  4.65506323e-02,\n",
              "       -7.29143433e-02,  4.62133745e-02,  2.37168424e-01,  1.69533508e-01,\n",
              "        2.82708793e-01, -4.61569560e-02,  5.66565920e-01,  1.69704842e-01,\n",
              "       -7.47799647e-01, -4.06274476e-01, -7.59670907e-01, -1.46794198e-01,\n",
              "        1.24081321e-01, -1.08427183e-01,  2.34128096e-02,  3.59145963e-02,\n",
              "       -4.11491224e-02,  1.46054544e-02, -8.41546420e-02, -3.97798566e-01,\n",
              "       -4.65666993e-01,  2.51473069e-01,  5.01277921e-01,  1.32425627e-01,\n",
              "        1.87269957e-01,  1.67873776e-01,  4.52054673e-01,  2.97760373e-01,\n",
              "        1.66873614e-01,  4.30498991e-01, -1.19527715e-01, -1.29315796e-03,\n",
              "        1.14001922e-01, -4.70500310e-02, -4.50483139e-01, -2.63108219e-01,\n",
              "        5.48504523e-01, -2.28016989e-01, -2.37622530e-01,  8.68212397e-03,\n",
              "        2.13159006e-01,  1.30187194e-01,  2.11592497e-01,  2.67929822e-01,\n",
              "        3.02914785e-01, -1.73686410e-01,  4.33659749e-02,  5.22405302e-02,\n",
              "       -5.63545824e-02,  6.64806534e-01, -3.99067766e-01,  1.11400862e-01,\n",
              "        7.04090265e-01, -1.51139869e-01,  1.63751175e-01, -1.31626868e-01,\n",
              "       -3.42558990e-01, -4.34043942e-01,  1.43755084e-01,  1.19727193e-01,\n",
              "        1.98078285e-02, -3.12033141e-01,  6.53177837e-02,  2.09191583e-02,\n",
              "       -8.37295232e-02, -2.30782127e-02,  2.30819996e-01, -1.37868505e-01,\n",
              "       -3.80358199e-01, -1.00409067e-01,  1.87152431e-01,  1.18526959e-01,\n",
              "        6.30945022e-01, -2.50729171e-01, -1.64331430e-01, -2.74242113e-01,\n",
              "       -2.65053651e-02, -1.23129014e-02,  1.71578538e-01, -2.24502978e-01,\n",
              "       -2.36292582e-01,  3.20693162e-01, -7.62036290e-02,  3.13039235e-01,\n",
              "        6.61259305e-02, -3.76737718e-01, -6.70587456e-01, -2.07983795e-01,\n",
              "       -3.31733985e-02,  1.98855512e-01,  5.72299275e-02,  3.23856124e-01,\n",
              "        6.11112049e-02, -9.60910042e-02,  9.33085701e-02, -1.21707127e-01,\n",
              "       -3.37930048e-01, -3.35907295e-01, -1.54379402e-01,  2.97220838e-01,\n",
              "        1.07997559e-01, -8.39174979e-01, -5.36458747e-02,  2.28084451e-01,\n",
              "       -9.54420602e-02, -4.41945526e-02, -3.25914993e-01, -4.28220980e-01,\n",
              "        4.92030259e-02,  1.25628760e-01, -2.38137818e-01,  1.84708497e-01,\n",
              "       -8.50410137e-02, -2.78704985e-01,  4.37103744e-01, -1.31780465e-01,\n",
              "        1.01291240e-01, -1.11289378e-02, -3.22430822e-01, -1.16459810e-01,\n",
              "       -1.53640596e-01, -4.79563926e-01,  2.41054965e-01,  3.05588215e-01,\n",
              "       -1.52016097e-01,  7.86355302e-02,  1.56871836e-02, -9.11451052e-02,\n",
              "        2.40844816e-01,  8.21760766e-02, -8.12374207e-02,  8.28220865e-02,\n",
              "        2.65226652e-02, -4.24844331e-01,  3.57212504e-01,  2.76490040e-01,\n",
              "        3.22062881e-02,  2.45564253e-02,  9.33909285e-02,  4.93333287e-02,\n",
              "       -1.63636172e-01,  4.60030830e-01, -2.10602673e-02, -3.65605529e-02,\n",
              "       -7.12508779e-02, -1.73420425e-01, -2.42972269e-02, -2.03895224e-01,\n",
              "       -1.47522958e-01,  5.66531904e-01,  1.85439427e-01,  1.68548733e-03,\n",
              "       -2.18605671e-01, -6.70330841e-02,  1.37106526e-02,  4.85707684e-01,\n",
              "       -5.76973256e-01,  5.36841971e-01,  5.23152477e-01,  2.17653226e-02,\n",
              "        1.74465832e-01, -1.67762105e-01,  2.73182374e-01, -7.22464460e-02,\n",
              "       -1.72472428e-01,  1.42035047e-01,  1.09567217e-01,  1.44211115e-02,\n",
              "       -1.70205363e-01, -3.65074010e-01, -7.35204681e-02,  8.86856427e-02,\n",
              "       -1.40052559e-01, -2.87214396e-01, -1.83928028e-02,  1.18227319e-01,\n",
              "        1.72906592e-01, -5.43661745e-02,  1.35941583e-01,  2.45846602e-01,\n",
              "       -6.08517172e-02, -3.57293965e-01, -1.70055543e-01, -1.19253580e-01,\n",
              "       -1.38186247e-01,  5.20027578e-02, -3.97039591e-02,  1.58522094e-01,\n",
              "        1.59335125e-01, -2.17986707e-01, -3.35024076e-01,  4.94805246e-02,\n",
              "        3.24318628e-01,  3.45401286e-01,  8.19177574e-02, -3.24664680e-02,\n",
              "        5.35585108e-02, -9.16257901e-02,  1.68248905e-01, -1.37262224e-01,\n",
              "        2.48243276e-01, -1.42478555e-01, -7.08072641e-03,  1.62249627e-01,\n",
              "       -5.80428068e-01, -1.65064044e-01,  5.07018438e-02,  2.28879483e-01,\n",
              "       -3.55641937e-01,  2.41249806e-01, -4.80861879e-01,  1.60158361e-02,\n",
              "        1.37801912e-02,  2.26234885e-01, -2.97442660e-02, -2.35683859e-01,\n",
              "        7.70340125e-02,  1.19071859e-01, -4.54852597e-02, -4.33849047e-01,\n",
              "       -1.02032489e-01,  2.97334402e-02,  4.20309411e-01,  2.99854706e-01,\n",
              "        1.02067673e-01, -3.05818419e-01, -2.05465928e-01, -4.90089246e-02,\n",
              "        6.38318313e-02, -2.69938522e-01, -3.66527411e-01,  7.39375108e-04,\n",
              "       -8.52649326e-03,  1.95246737e-02, -9.52314518e-02,  2.90850491e-01,\n",
              "        7.90366071e-02, -6.59149093e-02,  1.11903321e-01,  3.09966883e-01,\n",
              "       -6.86515544e-02, -6.26585102e-03,  4.57482838e-02,  9.89893467e-02,\n",
              "        1.12544183e-01, -1.11310062e-01, -1.76262389e-01, -9.66737861e-02,\n",
              "        5.03526399e-02,  1.51623946e-02, -4.54739853e-02, -1.56388215e-01,\n",
              "       -1.13685266e-01,  4.17752913e-02, -3.17959382e-02, -2.25186517e-02,\n",
              "        4.70199497e-01,  9.88168695e-02, -1.78350968e-01,  2.81363341e-01])"
            ]
          },
          "metadata": {
            "tags": []
          },
          "execution_count": 22
        }
      ]
    },
    {
      "cell_type": "code",
      "metadata": {
        "colab": {
          "base_uri": "https://localhost:8080/"
        },
        "collapsed": true,
        "id": "3VEbZdJgZVyv",
        "outputId": "44ee91ab-6f6c-49ba-996f-2c7053d4f1d3"
      },
      "source": [
        "embedding_index.get('i')"
      ],
      "execution_count": null,
      "outputs": [
        {
          "output_type": "execute_result",
          "data": {
            "text/plain": [
              "array([-1.76497423e-01,  7.76970039e-03,  2.64180867e-01,  3.62026901e-01,\n",
              "        8.35547312e-02,  3.37949357e-02,  9.88658683e-02,  1.16313651e-01,\n",
              "        1.80103364e-01, -2.87718805e-02,  7.97602320e-01, -1.40438220e-01,\n",
              "        1.63725932e-02,  2.50410568e-01,  1.52533625e-01, -1.04266798e+00,\n",
              "       -1.07756724e-01,  8.57791113e-02, -1.00160423e-01,  2.38509429e-04,\n",
              "        5.45795347e-01,  9.45021226e-02,  6.54612394e-02, -1.22585088e-02,\n",
              "       -6.01224104e-02,  3.13713700e-02, -2.48669530e-01, -2.32619519e-01,\n",
              "        3.74613181e-02, -2.58312116e-01, -2.02133301e-02, -9.82397446e-02,\n",
              "       -1.21153163e-01,  3.89657812e-01,  5.18970503e-02,  9.00497488e-02,\n",
              "       -2.80083208e-02, -4.60343219e-02, -8.85630357e-02,  4.65506323e-02,\n",
              "       -7.29143433e-02,  4.62133745e-02,  2.37168424e-01,  1.69533508e-01,\n",
              "        2.82708793e-01, -4.61569560e-02,  5.66565920e-01,  1.69704842e-01,\n",
              "       -7.47799647e-01, -4.06274476e-01, -7.59670907e-01, -1.46794198e-01,\n",
              "        1.24081321e-01, -1.08427183e-01,  2.34128096e-02,  3.59145963e-02,\n",
              "       -4.11491224e-02,  1.46054544e-02, -8.41546420e-02, -3.97798566e-01,\n",
              "       -4.65666993e-01,  2.51473069e-01,  5.01277921e-01,  1.32425627e-01,\n",
              "        1.87269957e-01,  1.67873776e-01,  4.52054673e-01,  2.97760373e-01,\n",
              "        1.66873614e-01,  4.30498991e-01, -1.19527715e-01, -1.29315796e-03,\n",
              "        1.14001922e-01, -4.70500310e-02, -4.50483139e-01, -2.63108219e-01,\n",
              "        5.48504523e-01, -2.28016989e-01, -2.37622530e-01,  8.68212397e-03,\n",
              "        2.13159006e-01,  1.30187194e-01,  2.11592497e-01,  2.67929822e-01,\n",
              "        3.02914785e-01, -1.73686410e-01,  4.33659749e-02,  5.22405302e-02,\n",
              "       -5.63545824e-02,  6.64806534e-01, -3.99067766e-01,  1.11400862e-01,\n",
              "        7.04090265e-01, -1.51139869e-01,  1.63751175e-01, -1.31626868e-01,\n",
              "       -3.42558990e-01, -4.34043942e-01,  1.43755084e-01,  1.19727193e-01,\n",
              "        1.98078285e-02, -3.12033141e-01,  6.53177837e-02,  2.09191583e-02,\n",
              "       -8.37295232e-02, -2.30782127e-02,  2.30819996e-01, -1.37868505e-01,\n",
              "       -3.80358199e-01, -1.00409067e-01,  1.87152431e-01,  1.18526959e-01,\n",
              "        6.30945022e-01, -2.50729171e-01, -1.64331430e-01, -2.74242113e-01,\n",
              "       -2.65053651e-02, -1.23129014e-02,  1.71578538e-01, -2.24502978e-01,\n",
              "       -2.36292582e-01,  3.20693162e-01, -7.62036290e-02,  3.13039235e-01,\n",
              "        6.61259305e-02, -3.76737718e-01, -6.70587456e-01, -2.07983795e-01,\n",
              "       -3.31733985e-02,  1.98855512e-01,  5.72299275e-02,  3.23856124e-01,\n",
              "        6.11112049e-02, -9.60910042e-02,  9.33085701e-02, -1.21707127e-01,\n",
              "       -3.37930048e-01, -3.35907295e-01, -1.54379402e-01,  2.97220838e-01,\n",
              "        1.07997559e-01, -8.39174979e-01, -5.36458747e-02,  2.28084451e-01,\n",
              "       -9.54420602e-02, -4.41945526e-02, -3.25914993e-01, -4.28220980e-01,\n",
              "        4.92030259e-02,  1.25628760e-01, -2.38137818e-01,  1.84708497e-01,\n",
              "       -8.50410137e-02, -2.78704985e-01,  4.37103744e-01, -1.31780465e-01,\n",
              "        1.01291240e-01, -1.11289378e-02, -3.22430822e-01, -1.16459810e-01,\n",
              "       -1.53640596e-01, -4.79563926e-01,  2.41054965e-01,  3.05588215e-01,\n",
              "       -1.52016097e-01,  7.86355302e-02,  1.56871836e-02, -9.11451052e-02,\n",
              "        2.40844816e-01,  8.21760766e-02, -8.12374207e-02,  8.28220865e-02,\n",
              "        2.65226652e-02, -4.24844331e-01,  3.57212504e-01,  2.76490040e-01,\n",
              "        3.22062881e-02,  2.45564253e-02,  9.33909285e-02,  4.93333287e-02,\n",
              "       -1.63636172e-01,  4.60030830e-01, -2.10602673e-02, -3.65605529e-02,\n",
              "       -7.12508779e-02, -1.73420425e-01, -2.42972269e-02, -2.03895224e-01,\n",
              "       -1.47522958e-01,  5.66531904e-01,  1.85439427e-01,  1.68548733e-03,\n",
              "       -2.18605671e-01, -6.70330841e-02,  1.37106526e-02,  4.85707684e-01,\n",
              "       -5.76973256e-01,  5.36841971e-01,  5.23152477e-01,  2.17653226e-02,\n",
              "        1.74465832e-01, -1.67762105e-01,  2.73182374e-01, -7.22464460e-02,\n",
              "       -1.72472428e-01,  1.42035047e-01,  1.09567217e-01,  1.44211115e-02,\n",
              "       -1.70205363e-01, -3.65074010e-01, -7.35204681e-02,  8.86856427e-02,\n",
              "       -1.40052559e-01, -2.87214396e-01, -1.83928028e-02,  1.18227319e-01,\n",
              "        1.72906592e-01, -5.43661745e-02,  1.35941583e-01,  2.45846602e-01,\n",
              "       -6.08517172e-02, -3.57293965e-01, -1.70055543e-01, -1.19253580e-01,\n",
              "       -1.38186247e-01,  5.20027578e-02, -3.97039591e-02,  1.58522094e-01,\n",
              "        1.59335125e-01, -2.17986707e-01, -3.35024076e-01,  4.94805246e-02,\n",
              "        3.24318628e-01,  3.45401286e-01,  8.19177574e-02, -3.24664680e-02,\n",
              "        5.35585108e-02, -9.16257901e-02,  1.68248905e-01, -1.37262224e-01,\n",
              "        2.48243276e-01, -1.42478555e-01, -7.08072641e-03,  1.62249627e-01,\n",
              "       -5.80428068e-01, -1.65064044e-01,  5.07018438e-02,  2.28879483e-01,\n",
              "       -3.55641937e-01,  2.41249806e-01, -4.80861879e-01,  1.60158361e-02,\n",
              "        1.37801912e-02,  2.26234885e-01, -2.97442660e-02, -2.35683859e-01,\n",
              "        7.70340125e-02,  1.19071859e-01, -4.54852597e-02, -4.33849047e-01,\n",
              "       -1.02032489e-01,  2.97334402e-02,  4.20309411e-01,  2.99854706e-01,\n",
              "        1.02067673e-01, -3.05818419e-01, -2.05465928e-01, -4.90089246e-02,\n",
              "        6.38318313e-02, -2.69938522e-01, -3.66527411e-01,  7.39375108e-04,\n",
              "       -8.52649326e-03,  1.95246737e-02, -9.52314518e-02,  2.90850491e-01,\n",
              "        7.90366071e-02, -6.59149093e-02,  1.11903321e-01,  3.09966883e-01,\n",
              "       -6.86515544e-02, -6.26585102e-03,  4.57482838e-02,  9.89893467e-02,\n",
              "        1.12544183e-01, -1.11310062e-01, -1.76262389e-01, -9.66737861e-02,\n",
              "        5.03526399e-02,  1.51623946e-02, -4.54739853e-02, -1.56388215e-01,\n",
              "       -1.13685266e-01,  4.17752913e-02, -3.17959382e-02, -2.25186517e-02,\n",
              "        4.70199497e-01,  9.88168695e-02, -1.78350968e-01,  2.81363341e-01])"
            ]
          },
          "metadata": {
            "tags": []
          },
          "execution_count": 23
        }
      ]
    },
    {
      "cell_type": "code",
      "metadata": {
        "id": "I_r4giD685b3",
        "colab": {
          "base_uri": "https://localhost:8080/"
        },
        "outputId": "ae034fd5-080a-48d9-e827-b1609d08b28f"
      },
      "source": [
        "# separate into input and output\n",
        "import numpy as np\n",
        "from tensorflow.keras.utils import to_categorical\n",
        "from sklearn.model_selection import train_test_split\n",
        "\n",
        "sequences = np.array(sequences)\n",
        "X, y = sequences[:,:-1], sequences[:,-1]\n",
        "y = to_categorical(y, num_classes=vocab_size)\n",
        "seq_length = X.shape[1]\n",
        "\n",
        "print(vocab_size)\n",
        "del(sequences)"
      ],
      "execution_count": null,
      "outputs": [
        {
          "output_type": "stream",
          "text": [
            "7410\n"
          ],
          "name": "stdout"
        }
      ]
    },
    {
      "cell_type": "code",
      "metadata": {
        "colab": {
          "base_uri": "https://localhost:8080/"
        },
        "id": "J3g5MKRNdqtH",
        "outputId": "6da77cba-da76-4f21-cfdb-47203b5f0500"
      },
      "source": [
        "X[:3]"
      ],
      "execution_count": null,
      "outputs": [
        {
          "output_type": "execute_result",
          "data": {
            "text/plain": [
              "array([[1046,   11,   11, 1045,  329, 7409,    4,    1, 2873,   35,  213,\n",
              "           1,  261,    3, 2251,    9,   11,  179,  817,  123,   92, 2872,\n",
              "           4,    1, 2249, 7408,    1, 7407, 7406,    2,   75,  120,   11,\n",
              "        1266,    4,  110,    6,   30,  168,   16,   49, 7405,    1, 1609,\n",
              "          13,   57,    8,  549,  151,   11],\n",
              "       [  11,   11, 1045,  329, 7409,    4,    1, 2873,   35,  213,    1,\n",
              "         261,    3, 2251,    9,   11,  179,  817,  123,   92, 2872,    4,\n",
              "           1, 2249, 7408,    1, 7407, 7406,    2,   75,  120,   11, 1266,\n",
              "           4,  110,    6,   30,  168,   16,   49, 7405,    1, 1609,   13,\n",
              "          57,    8,  549,  151,   11,   57],\n",
              "       [  11, 1045,  329, 7409,    4,    1, 2873,   35,  213,    1,  261,\n",
              "           3, 2251,    9,   11,  179,  817,  123,   92, 2872,    4,    1,\n",
              "        2249, 7408,    1, 7407, 7406,    2,   75,  120,   11, 1266,    4,\n",
              "         110,    6,   30,  168,   16,   49, 7405,    1, 1609,   13,   57,\n",
              "           8,  549,  151,   11,   57, 1147]])"
            ]
          },
          "metadata": {
            "tags": []
          },
          "execution_count": 25
        }
      ]
    },
    {
      "cell_type": "code",
      "metadata": {
        "colab": {
          "base_uri": "https://localhost:8080/"
        },
        "id": "LP8sUHqJ--q3",
        "outputId": "5a2701bb-9c59-4432-aaa2-ae9b153f1e1a"
      },
      "source": [
        "# create train and validation sets\n",
        "X_tr, X_val, y_tr, y_val = train_test_split(X, y, test_size=0.1, random_state=42)\n",
        "\n",
        "print('Train shape:', X_tr.shape, 'Val shape:', X_val.shape)\n",
        "del(X)\n",
        "del(y)"
      ],
      "execution_count": null,
      "outputs": [
        {
          "output_type": "stream",
          "text": [
            "Train shape: (106769, 50) Val shape: (11864, 50)\n"
          ],
          "name": "stdout"
        }
      ]
    },
    {
      "cell_type": "code",
      "metadata": {
        "id": "FV5MM4qh-Qng"
      },
      "source": [
        "from tensorflow.keras.models import *\n",
        "from tensorflow.keras.layers import *\n",
        "from tensorflow.keras.callbacks import *\n",
        "from tensorflow.keras.initializers import Constant"
      ],
      "execution_count": null,
      "outputs": []
    },
    {
      "cell_type": "code",
      "metadata": {
        "colab": {
          "base_uri": "https://localhost:8080/"
        },
        "id": "nygUzDdT9YzA",
        "outputId": "d442f459-d8c8-4a0e-c2ba-e6322ff59b8b"
      },
      "source": [
        "# define model\n",
        "model = Sequential()\n",
        "model.add(Embedding(vocab_size, 300, input_length=50 , weights=[embedding_matrix] , trainable = True))\n",
        "#model.add(LSTM(100, return_sequences=True))\n",
        "model.add(Bidirectional(LSTM(300,return_sequences=True)))\n",
        "#model.add(LSTM(100))\n",
        "\n",
        "model.add(GlobalMaxPooling1D())\n",
        "model.add(Dense(300, activation='relu'))\n",
        "model.add(Dense(vocab_size, activation='softmax'))\n",
        "print(model.summary())\n",
        "\n",
        "#Add loss function, metrics, optimizer\n",
        "model.compile(optimizer='adam', loss='categorical_crossentropy',metrics=['accuracy']) \n",
        "\n",
        "#Adding callbacks\n",
        "es = EarlyStopping(monitor='val_loss', mode='min', verbose=1,patience=5)  \n",
        "mc=ModelCheckpoint('/content/gdrive/MyDrive/Colab Notebooks/best_model.h5', monitor='val_accuracy', mode='max', save_best_only=True,verbose=1)\n"
      ],
      "execution_count": null,
      "outputs": [
        {
          "output_type": "stream",
          "text": [
            "Model: \"sequential\"\n",
            "_________________________________________________________________\n",
            "Layer (type)                 Output Shape              Param #   \n",
            "=================================================================\n",
            "embedding (Embedding)        (None, 50, 300)           2223000   \n",
            "_________________________________________________________________\n",
            "bidirectional (Bidirectional (None, 50, 600)           1442400   \n",
            "_________________________________________________________________\n",
            "global_max_pooling1d (Global (None, 600)               0         \n",
            "_________________________________________________________________\n",
            "dense (Dense)                (None, 300)               180300    \n",
            "_________________________________________________________________\n",
            "dense_1 (Dense)              (None, 7410)              2230410   \n",
            "=================================================================\n",
            "Total params: 6,076,110\n",
            "Trainable params: 6,076,110\n",
            "Non-trainable params: 0\n",
            "_________________________________________________________________\n",
            "None\n"
          ],
          "name": "stdout"
        }
      ]
    },
    {
      "cell_type": "code",
      "metadata": {
        "colab": {
          "base_uri": "https://localhost:8080/"
        },
        "id": "Py3Q2xiA-GK-",
        "outputId": "a5321c78-0503-47f4-d76f-7943dcad379a"
      },
      "source": [
        "from time import time\n",
        "t = time()\n",
        "history = model.fit(np.array(X_tr),np.array(y_tr),batch_size=100,epochs=100,\n",
        "                    validation_data=(np.array(X_val),np.array(y_val)),verbose=1,callbacks=[es,mc],\n",
        "                    )\n",
        "print(\"Total time taken to run : {} mins\".format(np.round((time()-t)/60,decimals = 2)))\n"
      ],
      "execution_count": null,
      "outputs": [
        {
          "output_type": "stream",
          "text": [
            "Epoch 1/100\n",
            "1068/1068 [==============================] - 85s 48ms/step - loss: 8.6607 - accuracy: 0.0476 - val_loss: 8.0691 - val_accuracy: 0.0593\n",
            "\n",
            "Epoch 00001: val_accuracy improved from -inf to 0.05934, saving model to /content/gdrive/MyDrive/Colab Notebooks/best_model.h5\n",
            "Epoch 2/100\n",
            "1068/1068 [==============================] - 52s 49ms/step - loss: 7.8926 - accuracy: 0.0613 - val_loss: 7.4601 - val_accuracy: 0.0593\n",
            "\n",
            "Epoch 00002: val_accuracy did not improve from 0.05934\n",
            "Epoch 3/100\n",
            "1068/1068 [==============================] - 52s 49ms/step - loss: 7.3024 - accuracy: 0.0594 - val_loss: 6.9650 - val_accuracy: 0.0593\n",
            "\n",
            "Epoch 00003: val_accuracy did not improve from 0.05934\n",
            "Epoch 4/100\n",
            "1068/1068 [==============================] - 54s 50ms/step - loss: 6.8322 - accuracy: 0.0601 - val_loss: 6.6039 - val_accuracy: 0.0593\n",
            "\n",
            "Epoch 00004: val_accuracy did not improve from 0.05934\n",
            "Epoch 5/100\n",
            "1068/1068 [==============================] - 52s 49ms/step - loss: 6.4976 - accuracy: 0.0593 - val_loss: 6.3871 - val_accuracy: 0.0593\n",
            "\n",
            "Epoch 00005: val_accuracy did not improve from 0.05934\n",
            "Epoch 6/100\n",
            "1068/1068 [==============================] - 52s 49ms/step - loss: 6.3113 - accuracy: 0.0577 - val_loss: 6.2840 - val_accuracy: 0.0593\n",
            "\n",
            "Epoch 00006: val_accuracy did not improve from 0.05934\n",
            "Epoch 7/100\n",
            "1068/1068 [==============================] - 52s 49ms/step - loss: 6.2047 - accuracy: 0.0606 - val_loss: 6.2427 - val_accuracy: 0.0593\n",
            "\n",
            "Epoch 00007: val_accuracy did not improve from 0.05934\n",
            "Epoch 8/100\n",
            "1068/1068 [==============================] - 52s 49ms/step - loss: 6.1807 - accuracy: 0.0592 - val_loss: 6.2261 - val_accuracy: 0.0593\n",
            "\n",
            "Epoch 00008: val_accuracy did not improve from 0.05934\n",
            "Epoch 9/100\n",
            "1068/1068 [==============================] - 52s 49ms/step - loss: 6.1468 - accuracy: 0.0603 - val_loss: 6.2202 - val_accuracy: 0.0593\n",
            "\n",
            "Epoch 00009: val_accuracy did not improve from 0.05934\n",
            "Epoch 10/100\n",
            "1068/1068 [==============================] - 52s 49ms/step - loss: 6.1412 - accuracy: 0.0593 - val_loss: 6.2202 - val_accuracy: 0.0593\n",
            "\n",
            "Epoch 00010: val_accuracy did not improve from 0.05934\n",
            "Epoch 11/100\n",
            "1068/1068 [==============================] - 53s 49ms/step - loss: 6.1262 - accuracy: 0.0602 - val_loss: 6.2235 - val_accuracy: 0.0593\n",
            "\n",
            "Epoch 00011: val_accuracy did not improve from 0.05934\n",
            "Epoch 12/100\n",
            "1068/1068 [==============================] - 52s 49ms/step - loss: 6.1119 - accuracy: 0.0601 - val_loss: 6.2290 - val_accuracy: 0.0593\n",
            "\n",
            "Epoch 00012: val_accuracy did not improve from 0.05934\n",
            "Epoch 13/100\n",
            "1068/1068 [==============================] - 52s 49ms/step - loss: 6.0954 - accuracy: 0.0598 - val_loss: 6.2357 - val_accuracy: 0.0593\n",
            "\n",
            "Epoch 00013: val_accuracy did not improve from 0.05934\n",
            "Epoch 14/100\n",
            "1068/1068 [==============================] - 52s 49ms/step - loss: 6.0978 - accuracy: 0.0599 - val_loss: 6.2433 - val_accuracy: 0.0593\n",
            "\n",
            "Epoch 00014: val_accuracy did not improve from 0.05934\n",
            "Epoch 15/100\n",
            "1068/1068 [==============================] - 52s 49ms/step - loss: 6.0948 - accuracy: 0.0595 - val_loss: 6.2510 - val_accuracy: 0.0593\n",
            "\n",
            "Epoch 00015: val_accuracy did not improve from 0.05934\n",
            "Epoch 00015: early stopping\n",
            "Total time taken to run : 13.68 mins\n"
          ],
          "name": "stdout"
        }
      ]
    },
    {
      "cell_type": "code",
      "metadata": {
        "id": "MY5MSC_L_MpZ"
      },
      "source": [
        ""
      ],
      "execution_count": null,
      "outputs": []
    },
    {
      "cell_type": "markdown",
      "metadata": {
        "id": "l3g8A5kMmO2P"
      },
      "source": [
        "## So GloVe does'nt work well . We will perform it again in seperate file with another embedding technique"
      ]
    },
    {
      "cell_type": "code",
      "metadata": {
        "id": "p28HvDIEmecV"
      },
      "source": [
        ""
      ],
      "execution_count": null,
      "outputs": []
    }
  ]
}