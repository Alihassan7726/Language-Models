{
 "cells": [
  {
   "cell_type": "code",
   "execution_count": 64,
   "metadata": {},
   "outputs": [],
   "source": [
    "import numpy as np\n",
    "import pandas as pd\n",
    "from tensorflow.keras.utils import to_categorical\n",
    "from tensorflow.keras.preprocessing.sequence import pad_sequences\n",
    "from tensorflow.keras.models import Sequential\n",
    "from tensorflow.keras.layers import LSTM, Dense, Embedding , Bidirectional\n",
    "from tensorflow.keras.callbacks import EarlyStopping, ModelCheckpoint\n",
    "import warnings\n",
    "warnings.filterwarnings('ignore')"
   ]
  },
  {
   "cell_type": "code",
   "execution_count": 3,
   "metadata": {},
   "outputs": [],
   "source": [
    "data_text = \"\"\"The unanimous Declaration of the thirteen united States of America, When in the Course of human events, it becomes necessary for one people to dissolve the political bands which have connected them with another, and to assume among the powers of the earth, the separate and equal station to which the Laws of Nature and of Nature's God entitle them, a decent respect to the opinions of mankind requires that they should declare the causes which impel them to the separation.\n",
    "We hold these truths to be self-evident, that all men are created equal, that they are endowed by their Creator with certain unalienable Rights, that among these are Life, Liberty and the pursuit of Happiness.--That to secure these rights, Governments are instituted among Men, deriving their just powers from the consent of the governed, --That whenever any Form of Government becomes destructive of these ends, it is the Right of the People to alter or to abolish it, and to institute new Government, laying its foundation on such principles and organizing its powers in such form, as to them shall seem most likely to effect their Safety and Happiness. Prudence, indeed, will dictate that Governments long established should not be changed for light and transient causes; and accordingly all experience hath shewn, that mankind are more disposed to suffer, while evils are sufferable, than to right themselves by abolishing the forms to which they are accustomed. But when a long train of abuses and usurpations, pursuing invariably the same Object evinces a design to reduce them under absolute Despotism, it is their right, it is their duty, to throw off such Government, and to provide new Guards for their future security.--Such has been the patient sufferance of these Colonies; and such is now the necessity which constrains them to alter their former Systems of Government. The history of the present King of Great Britain is a history of repeated injuries and usurpations, all having in direct object the establishment of an absolute Tyranny over these States. To prove this, let Facts be submitted to a candid world.\n",
    "He has refused his Assent to Laws, the most wholesome and necessary for the public good.\n",
    "He has forbidden his Governors to pass Laws of immediate and pressing importance, unless suspended in their operation till his Assent should be obtained; and when so suspended, he has utterly neglected to attend to them.\n",
    "He has refused to pass other Laws for the accommodation of large districts of people, unless those people would relinquish the right of Representation in the Legislature, a right inestimable to them and formidable to tyrants only.\n",
    "He has called together legislative bodies at places unusual, uncomfortable, and distant from the depository of their public Records, for the sole purpose of fatiguing them into compliance with his measures.\n",
    "He has dissolved Representative Houses repeatedly, for opposing with manly firmness his invasions on the rights of the people.\n",
    "He has refused for a long time, after such dissolutions, to cause others to be elected; whereby the Legislative powers, incapable of Annihilation, have returned to the People at large for their exercise; the State remaining in the mean time exposed to all the dangers of invasion from without, and convulsions within.\n",
    "He has endeavoured to prevent the population of these States; for that purpose obstructing the Laws for Naturalization of Foreigners; refusing to pass others to encourage their migrations hither, and raising the conditions of new Appropriations of Lands.\n",
    "He has obstructed the Administration of Justice, by refusing his Assent to Laws for establishing Judiciary powers.\n",
    "He has made Judges dependent on his Will alone, for the tenure of their offices, and the amount and payment of their salaries.\n",
    "He has erected a multitude of New Offices, and sent hither swarms of Officers to harrass our people, and eat out their substance.\n",
    "He has kept among us, in times of peace, Standing Armies without the Consent of our legislatures.\n",
    "He has affected to render the Military independent of and superior to the Civil power.\n",
    "He has combined with others to subject us to a jurisdiction foreign to our constitution, and unacknowledged by our laws; giving his Assent to their Acts of pretended Legislation:\n",
    "For Quartering large bodies of armed troops among us:\n",
    "For protecting them, by a mock Trial, from punishment for any Murders which they should commit on the Inhabitants of these States:\n",
    "For cutting off our Trade with all parts of the world:\n",
    "For imposing Taxes on us without our Consent:\n",
    "For depriving us in many cases, of the benefits of Trial by Jury:\n",
    "For transporting us beyond Seas to be tried for pretended offences\n",
    "For abolishing the free System of English Laws in a neighbouring Province, establishing therein an Arbitrary government, and enlarging its Boundaries so as to render it at once an example and fit instrument for introducing the same absolute rule into these Colonies:\n",
    "For taking away our Charters, abolishing our most valuable Laws, and altering fundamentally the Forms of our Governments:\n",
    "For suspending our own Legislatures, and declaring themselves invested with power to legislate for us in all cases whatsoever.\n",
    "He has abdicated Government here, by declaring us out of his Protection and waging War against us.\n",
    "He has plundered our seas, ravaged our Coasts, burnt our towns, and destroyed the lives of our people.\n",
    "He is at this time transporting large Armies of foreign Mercenaries to compleat the works of death, desolation and tyranny, already begun with circumstances of Cruelty & perfidy scarcely paralleled in the most barbarous ages, and totally unworthy the Head of a civilized nation.\n",
    "He has constrained our fellow Citizens taken Captive on the high Seas to bear Arms against their Country, to become the executioners of their friends and Brethren, or to fall themselves by their Hands.\n",
    "He has excited domestic insurrections amongst us, and has endeavoured to bring on the inhabitants of our frontiers, the merciless Indian Savages, whose known rule of warfare, is an undistinguished destruction of all ages, sexes and conditions.\n",
    "In every stage of these Oppressions We have Petitioned for Redress in the most humble terms: Our repeated Petitions have been answered only by repeated injury. A Prince whose character is thus marked by every act which may define a Tyrant, is unfit to be the ruler of a free people.\n",
    "Nor have We been wanting in attentions to our Brittish brethren. We have warned them from time to time of attempts by their legislature to extend an unwarrantable jurisdiction over us. We have reminded them of the circumstances of our emigration and settlement here. We have appealed to their native justice and magnanimity, and we have conjured them by the ties of our common kindred to disavow these usurpations, which, would inevitably interrupt our connections and correspondence. They too have been deaf to the voice of justice and of consanguinity. We must, therefore, acquiesce in the necessity, which denounces our Separation, and hold them, as we hold the rest of mankind, Enemies in War, in Peace Friends.\n",
    "We, therefore, the Representatives of the united States of America, in General Congress, Assembled, appealing to the Supreme Judge of the world for the rectitude of our intentions, do, in the Name, and by Authority of the good People of these Colonies, solemnly publish and declare, That these United Colonies are, and of Right ought to be Free and Independent States; that they are Absolved from all Allegiance to the British Crown, and that all political connection between them and the State of Great Britain, is and ought to be totally dissolved; and that as Free and Independent States, they have full Power to levy War, conclude Peace, contract Alliances, establish Commerce, and to do all other Acts and Things which Independent States may of right do. And for the support of this Declaration, with a firm reliance on the protection of divine Providence, we mutually pledge to each other our Lives, our Fortunes and our sacred Honor.\"\"\"\n"
   ]
  },
  {
   "cell_type": "code",
   "execution_count": 4,
   "metadata": {
    "scrolled": true
   },
   "outputs": [
    {
     "data": {
      "text/plain": [
       "'the unanimous declaration the thirteen united states america when the course human events becomes necessary for one people dissolve the political bands which have connected them with another and assume among the powers the earth the separate and equal station which the laws nature and nature god entitle them decent respect the opinions mankind requires that they should declare the causes which impel them the separation hold these truths self evident that all men are created equal that they are endowed their creator with certain unalienable rights that among these are life liberty and the pursuit happiness that secure these rights governments are instituted among men deriving their just powers from the consent the governed that whenever any form government becomes destructive these ends the right the people alter abolish and institute new government laying its foundation such principles and organizing its powers such form them shall seem most likely effect their safety and happiness prudence indeed will dictate that governments long established should not changed for light and transient causes and accordingly all experience hath shewn that mankind are more disposed suffer while evils are sufferable than right themselves abolishing the forms which they are accustomed but when long train abuses and usurpations pursuing invariably the same object evinces design reduce them under absolute despotism their right their duty throw off such government and provide new guards for their future security such has been the patient sufferance these colonies and such now the necessity which constrains them alter their former systems government the history the present king great britain history repeated injuries and usurpations all having direct object the establishment absolute tyranny over these states prove this let facts submitted candid world has refused his assent laws the most wholesome and necessary for the public good has forbidden his governors pass laws immediate and pressing importance unless suspended their operation till his assent should obtained and when suspended has utterly neglected attend them has refused pass other laws for the accommodation large districts people unless those people would relinquish the right representation the legislature right inestimable them and formidable tyrants only has called together legislative bodies places unusual uncomfortable and distant from the depository their public records for the sole purpose fatiguing them into compliance with his measures has dissolved representative houses repeatedly for opposing with manly firmness his invasions the rights the people has refused for long time after such dissolutions cause others elected whereby the legislative powers incapable annihilation have returned the people large for their exercise the state remaining the mean time exposed all the dangers invasion from without and convulsions within has endeavoured prevent the population these states for that purpose obstructing the laws for naturalization foreigners refusing pass others encourage their migrations hither and raising the conditions new appropriations lands has obstructed the administration justice refusing his assent laws for establishing judiciary powers has made judges dependent his will alone for the tenure their offices and the amount and payment their salaries has erected multitude new offices and sent hither swarms officers harrass our people and eat out their substance has kept among times peace standing armies without the consent our legislatures has affected render the military independent and superior the civil power has combined with others subject jurisdiction foreign our constitution and unacknowledged our laws giving his assent their acts pretended legislation for quartering large bodies armed troops among for protecting them mock trial from punishment for any murders which they should commit the inhabitants these states for cutting off our trade with all parts the world for imposing taxes without our consent for depriving many cases the benefits trial jury for transporting beyond seas tried for pretended offences for abolishing the free system english laws neighbouring province establishing therein arbitrary government and enlarging its boundaries render once example and fit instrument for introducing the same absolute rule into these colonies for taking away our charters abolishing our most valuable laws and altering fundamentally the forms our governments for suspending our own legislatures and declaring themselves invested with power legislate for all cases whatsoever has abdicated government here declaring out his protection and waging war against has plundered our seas ravaged our coasts burnt our towns and destroyed the lives our people this time transporting large armies foreign mercenaries compleat the works death desolation and tyranny already begun with circumstances cruelty perfidy scarcely paralleled the most barbarous ages and totally unworthy the head civilized nation has constrained our fellow citizens taken captive the high seas bear arms against their country become the executioners their friends and brethren fall themselves their hands has excited domestic insurrections amongst and has endeavoured bring the inhabitants our frontiers the merciless indian savages whose known rule warfare undistinguished destruction all ages sexes and conditions every stage these oppressions have petitioned for redress the most humble terms our repeated petitions have been answered only repeated injury prince whose character thus marked every act which may define tyrant unfit the ruler free people nor have been wanting attentions our brittish brethren have warned them from time time attempts their legislature extend unwarrantable jurisdiction over have reminded them the circumstances our emigration and settlement here have appealed their native justice and magnanimity and have conjured them the ties our common kindred disavow these usurpations which would inevitably interrupt our connections and correspondence they too have been deaf the voice justice and consanguinity must therefore acquiesce the necessity which denounces our separation and hold them hold the rest mankind enemies war peace friends therefore the representatives the united states america general congress assembled appealing the supreme judge the world for the rectitude our intentions the name and authority the good people these colonies solemnly publish and declare that these united colonies are and right ought free and independent states that they are absolved from all allegiance the british crown and that all political connection between them and the state great britain and ought totally dissolved and that free and independent states they have full power levy war conclude peace contract alliances establish commerce and all other acts and things which independent states may right and for the support this declaration with firm reliance the protection divine providence mutually pledge each other our lives our fortunes and our sacred honor'"
      ]
     },
     "execution_count": 4,
     "metadata": {},
     "output_type": "execute_result"
    }
   ],
   "source": [
    "import re\n",
    "\n",
    "def text_cleaner(text):\n",
    "    # lower case text\n",
    "    newString = text.lower()\n",
    "    newString = re.sub(r\"'s\\b\",\"\",newString)\n",
    "    # remove punctuations\n",
    "    newString = re.sub(\"[^a-zA-Z]\", \" \", newString) \n",
    "    long_words=[]\n",
    "    # remove short word\n",
    "    for i in newString.split():\n",
    "        if len(i)>=3:                  \n",
    "            long_words.append(i)\n",
    "    return (\" \".join(long_words)).strip()\n",
    "\n",
    "# preprocess the text\n",
    "data_new = text_cleaner(data_text)\n",
    "data_new"
   ]
  },
  {
   "cell_type": "markdown",
   "metadata": {},
   "source": [
    "## Creating sequences of text for model\n",
    "1. Since we are building chracter level model so we'll so how to create sequences"
   ]
  },
  {
   "cell_type": "code",
   "execution_count": 33,
   "metadata": {},
   "outputs": [
    {
     "name": "stdout",
     "output_type": "stream",
     "text": [
      "Total Sequences: 1\n"
     ]
    },
    {
     "data": {
      "text/plain": [
       "['the unanimous declaration the t',\n",
       " 'he unanimous declaration the th',\n",
       " 'e unanimous declaration the thi',\n",
       " ' unanimous declaration the thir',\n",
       " 'unanimous declaration the thirt',\n",
       " 'nanimous declaration the thirte',\n",
       " 'animous declaration the thirtee',\n",
       " 'nimous declaration the thirteen',\n",
       " 'imous declaration the thirteen ',\n",
       " 'mous declaration the thirteen u']"
      ]
     },
     "execution_count": 33,
     "metadata": {},
     "output_type": "execute_result"
    }
   ],
   "source": [
    "## We will take in 30 characters as context \n",
    "def create_seq(text):\n",
    "    length = 30\n",
    "    dum_sequences = list()\n",
    "    ori_sequences = list()\n",
    "    for i in range(length, len(text)):\n",
    "        # select sequence of tokens\n",
    "        seq = text[i-length:i+1]\n",
    "        seq2 = [char for char in seq]\n",
    "        # store\n",
    "        dum_sequences.append(seq)\n",
    "        ori_sequences.append(seq2) \n",
    "    print('Total Sequences: %d' % len(sequences))\n",
    "    return (dum_sequences , ori_sequences)\n",
    "\n",
    "# create sequences   \n",
    "dum_sequences , ori_sequences = create_seq(data_new)\n",
    "dum_sequences[:10]"
   ]
  },
  {
   "cell_type": "code",
   "execution_count": 34,
   "metadata": {
    "scrolled": true
   },
   "outputs": [
    {
     "data": {
      "text/plain": [
       "[['t',\n",
       "  'h',\n",
       "  'e',\n",
       "  ' ',\n",
       "  'u',\n",
       "  'n',\n",
       "  'a',\n",
       "  'n',\n",
       "  'i',\n",
       "  'm',\n",
       "  'o',\n",
       "  'u',\n",
       "  's',\n",
       "  ' ',\n",
       "  'd',\n",
       "  'e',\n",
       "  'c',\n",
       "  'l',\n",
       "  'a',\n",
       "  'r',\n",
       "  'a',\n",
       "  't',\n",
       "  'i',\n",
       "  'o',\n",
       "  'n',\n",
       "  ' ',\n",
       "  't',\n",
       "  'h',\n",
       "  'e',\n",
       "  ' ',\n",
       "  't'],\n",
       " ['h',\n",
       "  'e',\n",
       "  ' ',\n",
       "  'u',\n",
       "  'n',\n",
       "  'a',\n",
       "  'n',\n",
       "  'i',\n",
       "  'm',\n",
       "  'o',\n",
       "  'u',\n",
       "  's',\n",
       "  ' ',\n",
       "  'd',\n",
       "  'e',\n",
       "  'c',\n",
       "  'l',\n",
       "  'a',\n",
       "  'r',\n",
       "  'a',\n",
       "  't',\n",
       "  'i',\n",
       "  'o',\n",
       "  'n',\n",
       "  ' ',\n",
       "  't',\n",
       "  'h',\n",
       "  'e',\n",
       "  ' ',\n",
       "  't',\n",
       "  'h']]"
      ]
     },
     "execution_count": 34,
     "metadata": {},
     "output_type": "execute_result"
    }
   ],
   "source": [
    "ori_sequences[:2]"
   ]
  },
  {
   "cell_type": "markdown",
   "metadata": {},
   "source": [
    "## Encoding sentences\n",
    "As encoding can't be done on above character level by using funtions . So neeed to manually do it"
   ]
  },
  {
   "cell_type": "code",
   "execution_count": 39,
   "metadata": {
    "scrolled": true
   },
   "outputs": [
    {
     "name": "stdout",
     "output_type": "stream",
     "text": [
      "[' ', 'a', 'b', 'c', 'd', 'e', 'f', 'g', 'h', 'i', 'j', 'k', 'l', 'm', 'n', 'o', 'p', 'q', 'r', 's', 't', 'u', 'v', 'w', 'x', 'y', 'z']\n",
      "[0, 1, 2, 3, 4, 5, 6, 7, 8, 9, 10, 11, 12, 13, 14, 15, 16, 17, 18, 19, 20, 21, 22, 23, 24, 25, 26]\n"
     ]
    },
    {
     "data": {
      "text/plain": [
       "[[20,\n",
       "  8,\n",
       "  5,\n",
       "  0,\n",
       "  21,\n",
       "  14,\n",
       "  1,\n",
       "  14,\n",
       "  9,\n",
       "  13,\n",
       "  15,\n",
       "  21,\n",
       "  19,\n",
       "  0,\n",
       "  4,\n",
       "  5,\n",
       "  3,\n",
       "  12,\n",
       "  1,\n",
       "  18,\n",
       "  1,\n",
       "  20,\n",
       "  9,\n",
       "  15,\n",
       "  14,\n",
       "  0,\n",
       "  20,\n",
       "  8,\n",
       "  5,\n",
       "  0,\n",
       "  20],\n",
       " [8,\n",
       "  5,\n",
       "  0,\n",
       "  21,\n",
       "  14,\n",
       "  1,\n",
       "  14,\n",
       "  9,\n",
       "  13,\n",
       "  15,\n",
       "  21,\n",
       "  19,\n",
       "  0,\n",
       "  4,\n",
       "  5,\n",
       "  3,\n",
       "  12,\n",
       "  1,\n",
       "  18,\n",
       "  1,\n",
       "  20,\n",
       "  9,\n",
       "  15,\n",
       "  14,\n",
       "  0,\n",
       "  20,\n",
       "  8,\n",
       "  5,\n",
       "  0,\n",
       "  20,\n",
       "  8],\n",
       " [5,\n",
       "  0,\n",
       "  21,\n",
       "  14,\n",
       "  1,\n",
       "  14,\n",
       "  9,\n",
       "  13,\n",
       "  15,\n",
       "  21,\n",
       "  19,\n",
       "  0,\n",
       "  4,\n",
       "  5,\n",
       "  3,\n",
       "  12,\n",
       "  1,\n",
       "  18,\n",
       "  1,\n",
       "  20,\n",
       "  9,\n",
       "  15,\n",
       "  14,\n",
       "  0,\n",
       "  20,\n",
       "  8,\n",
       "  5,\n",
       "  0,\n",
       "  20,\n",
       "  8,\n",
       "  9]]"
      ]
     },
     "execution_count": 39,
     "metadata": {},
     "output_type": "execute_result"
    }
   ],
   "source": [
    "## Method #1\n",
    "## Mapping index for each character of total 26\n",
    "\n",
    "chars = sorted(list(set(data_new)))\n",
    "print(list(chars))\n",
    "\n",
    "mapping = dict((c, i) for i, c in enumerate(chars))\n",
    "print(list(mapping.values()))\n",
    "\n",
    "def encoded_seq(seq):\n",
    "    sequences = list()\n",
    "    for line in seq:\n",
    "        encoded_seq = [mapping[char] for char in line]\n",
    "        sequences.append(encoded_seq)\n",
    "    return sequences\n",
    "\n",
    "sequences = encoded_seq(dum_sequences)\n",
    "sequences[:3]"
   ]
  },
  {
   "cell_type": "code",
   "execution_count": 41,
   "metadata": {
    "scrolled": true
   },
   "outputs": [],
   "source": [
    "from tensorflow.keras.preprocessing.text import Tokenizer\n",
    "from nltk.tokenize import word_tokenize\n"
   ]
  },
  {
   "cell_type": "code",
   "execution_count": 42,
   "metadata": {
    "scrolled": true
   },
   "outputs": [
    {
     "data": {
      "text/plain": [
       "[[3,\n",
       "  10,\n",
       "  2,\n",
       "  1,\n",
       "  13,\n",
       "  4,\n",
       "  5,\n",
       "  4,\n",
       "  8,\n",
       "  15,\n",
       "  9,\n",
       "  13,\n",
       "  6,\n",
       "  1,\n",
       "  11,\n",
       "  2,\n",
       "  14,\n",
       "  12,\n",
       "  5,\n",
       "  7,\n",
       "  5,\n",
       "  3,\n",
       "  8,\n",
       "  9,\n",
       "  4,\n",
       "  1,\n",
       "  3,\n",
       "  10,\n",
       "  2,\n",
       "  1,\n",
       "  3],\n",
       " [10,\n",
       "  2,\n",
       "  1,\n",
       "  13,\n",
       "  4,\n",
       "  5,\n",
       "  4,\n",
       "  8,\n",
       "  15,\n",
       "  9,\n",
       "  13,\n",
       "  6,\n",
       "  1,\n",
       "  11,\n",
       "  2,\n",
       "  14,\n",
       "  12,\n",
       "  5,\n",
       "  7,\n",
       "  5,\n",
       "  3,\n",
       "  8,\n",
       "  9,\n",
       "  4,\n",
       "  1,\n",
       "  3,\n",
       "  10,\n",
       "  2,\n",
       "  1,\n",
       "  3,\n",
       "  10],\n",
       " [2,\n",
       "  1,\n",
       "  13,\n",
       "  4,\n",
       "  5,\n",
       "  4,\n",
       "  8,\n",
       "  15,\n",
       "  9,\n",
       "  13,\n",
       "  6,\n",
       "  1,\n",
       "  11,\n",
       "  2,\n",
       "  14,\n",
       "  12,\n",
       "  5,\n",
       "  7,\n",
       "  5,\n",
       "  3,\n",
       "  8,\n",
       "  9,\n",
       "  4,\n",
       "  1,\n",
       "  3,\n",
       "  10,\n",
       "  2,\n",
       "  1,\n",
       "  3,\n",
       "  10,\n",
       "  8]]"
      ]
     },
     "execution_count": 42,
     "metadata": {},
     "output_type": "execute_result"
    }
   ],
   "source": [
    "## Method #2\n",
    "tokenizer_obj = Tokenizer()\n",
    "tokenizer_obj.fit_on_texts(ori_sequences)\n",
    "sequences_2 = tokenizer_obj.texts_to_sequences(ori_sequences)\n",
    "sequences_2[:3]"
   ]
  },
  {
   "cell_type": "code",
   "execution_count": 46,
   "metadata": {},
   "outputs": [
    {
     "data": {
      "text/plain": [
       "array([[20,  8,  5, ...,  8,  5,  0],\n",
       "       [ 8,  5,  0, ...,  5,  0, 20],\n",
       "       [ 5,  0, 21, ...,  0, 20,  8],\n",
       "       ...,\n",
       "       [15, 21, 18, ...,  0,  8, 15],\n",
       "       [21, 18,  0, ...,  8, 15, 14],\n",
       "       [18,  0,  6, ..., 15, 14, 15]])"
      ]
     },
     "execution_count": 46,
     "metadata": {},
     "output_type": "execute_result"
    }
   ],
   "source": [
    "#sequences = np.array(sequences)\n",
    "sequences[:,:-1] # Rows sari aur colunm -1 ( means ky 1 kam)"
   ]
  },
  {
   "cell_type": "code",
   "execution_count": 59,
   "metadata": {},
   "outputs": [
    {
     "name": "stdout",
     "output_type": "stream",
     "text": [
      "[20  8  9 ... 14 15 18]\n",
      "(7052, 27) 7052\n"
     ]
    },
    {
     "data": {
      "text/plain": [
       "array([[0., 0., 0., ..., 0., 0., 0.],\n",
       "       [0., 0., 0., ..., 0., 0., 0.],\n",
       "       [0., 0., 0., ..., 0., 0., 0.],\n",
       "       ...,\n",
       "       [0., 0., 0., ..., 0., 0., 0.],\n",
       "       [0., 0., 0., ..., 0., 0., 0.],\n",
       "       [0., 0., 0., ..., 0., 0., 0.]], dtype=float32)"
      ]
     },
     "execution_count": 59,
     "metadata": {},
     "output_type": "execute_result"
    }
   ],
   "source": [
    "from sklearn.model_selection import train_test_split\n",
    "\n",
    "# vocabulary size\n",
    "vocab = len(mapping)\n",
    "sequences = np.array(sequences)\n",
    "# create X and y\n",
    "X, y = sequences[:,:-1], sequences[:,-1]\n",
    "print(y)\n",
    "y = to_categorical(y, num_classes=vocab)\n",
    "print(y.shape , len(y))\n",
    "y\n"
   ]
  },
  {
   "cell_type": "code",
   "execution_count": 60,
   "metadata": {},
   "outputs": [
    {
     "name": "stdout",
     "output_type": "stream",
     "text": [
      "Train shape: (6346, 30) Val shape: (706, 30)\n"
     ]
    }
   ],
   "source": [
    "# create train and validation sets\n",
    "X_tr, X_val, y_tr, y_val = train_test_split(X, y, test_size=0.1, random_state=42)\n",
    "\n",
    "print('Train shape:', X_tr.shape, 'Val shape:', X_val.shape)"
   ]
  },
  {
   "cell_type": "code",
   "execution_count": 69,
   "metadata": {
    "scrolled": true
   },
   "outputs": [
    {
     "name": "stdout",
     "output_type": "stream",
     "text": [
      "Model: \"sequential_6\"\n",
      "_________________________________________________________________\n",
      "Layer (type)                 Output Shape              Param #   \n",
      "=================================================================\n",
      "embedding_6 (Embedding)      (None, 30, 50)            1350      \n",
      "_________________________________________________________________\n",
      "bidirectional_3 (Bidirection (None, 300)               241200    \n",
      "_________________________________________________________________\n",
      "dense_5 (Dense)              (None, 27)                8127      \n",
      "=================================================================\n",
      "Total params: 250,677\n",
      "Trainable params: 250,677\n",
      "Non-trainable params: 0\n",
      "_________________________________________________________________\n",
      "None\n",
      "Epoch 1/50\n",
      "199/199 - 46s - loss: 2.8859 - acc: 0.1491 - val_loss: 2.7979 - val_acc: 0.1983\n",
      "Epoch 2/50\n",
      "199/199 - 32s - loss: 2.5138 - acc: 0.2684 - val_loss: 2.3414 - val_acc: 0.3088\n",
      "Epoch 3/50\n",
      "199/199 - 36s - loss: 2.2398 - acc: 0.3375 - val_loss: 2.2249 - val_acc: 0.3442\n",
      "Epoch 4/50\n",
      "199/199 - 35s - loss: 2.1251 - acc: 0.3613 - val_loss: 2.1258 - val_acc: 0.3782\n",
      "Epoch 5/50\n",
      "199/199 - 32s - loss: 2.0188 - acc: 0.3946 - val_loss: 2.0744 - val_acc: 0.3895\n",
      "Epoch 6/50\n",
      "199/199 - 32s - loss: 1.9331 - acc: 0.4171 - val_loss: 2.0349 - val_acc: 0.3952\n",
      "Epoch 7/50\n",
      "199/199 - 32s - loss: 1.8559 - acc: 0.4379 - val_loss: 1.9876 - val_acc: 0.4221\n",
      "Epoch 8/50\n",
      "199/199 - 33s - loss: 1.7591 - acc: 0.4675 - val_loss: 1.9613 - val_acc: 0.4334\n",
      "Epoch 9/50\n",
      "199/199 - 32s - loss: 1.6823 - acc: 0.4910 - val_loss: 1.9433 - val_acc: 0.4306\n",
      "Epoch 10/50\n",
      "199/199 - 32s - loss: 1.5974 - acc: 0.5167 - val_loss: 1.9440 - val_acc: 0.4150\n",
      "Epoch 11/50\n",
      "199/199 - 32s - loss: 1.5108 - acc: 0.5435 - val_loss: 1.9287 - val_acc: 0.4348\n",
      "Epoch 12/50\n",
      "199/199 - 32s - loss: 1.4154 - acc: 0.5687 - val_loss: 1.9273 - val_acc: 0.4518\n",
      "Epoch 13/50\n",
      "199/199 - 32s - loss: 1.3236 - acc: 0.5988 - val_loss: 1.9640 - val_acc: 0.4448\n",
      "Epoch 14/50\n",
      "199/199 - 32s - loss: 1.2221 - acc: 0.6280 - val_loss: 1.9728 - val_acc: 0.4462\n",
      "Epoch 15/50\n",
      "199/199 - 32s - loss: 1.1250 - acc: 0.6568 - val_loss: 2.0193 - val_acc: 0.4348\n",
      "Epoch 16/50\n",
      "199/199 - 33s - loss: 1.0263 - acc: 0.6878 - val_loss: 2.0411 - val_acc: 0.4433\n",
      "Epoch 17/50\n",
      "199/199 - 32s - loss: 0.9245 - acc: 0.7253 - val_loss: 2.0998 - val_acc: 0.4334\n",
      "Epoch 18/50\n",
      "199/199 - 33s - loss: 0.8296 - acc: 0.7616 - val_loss: 2.1232 - val_acc: 0.4320\n",
      "Epoch 19/50\n",
      "199/199 - 36s - loss: 0.7402 - acc: 0.7926 - val_loss: 2.1686 - val_acc: 0.4363\n",
      "Epoch 20/50\n",
      "199/199 - 39s - loss: 0.6552 - acc: 0.8207 - val_loss: 2.1983 - val_acc: 0.4433\n",
      "Epoch 21/50\n",
      "199/199 - 35s - loss: 0.5783 - acc: 0.8503 - val_loss: 2.2672 - val_acc: 0.4363\n",
      "Epoch 22/50\n",
      "199/199 - 35s - loss: 0.5040 - acc: 0.8716 - val_loss: 2.3509 - val_acc: 0.4348\n",
      "Epoch 23/50\n",
      "199/199 - 43s - loss: 0.4362 - acc: 0.8982 - val_loss: 2.3856 - val_acc: 0.4278\n",
      "Epoch 24/50\n",
      "199/199 - 36s - loss: 0.3821 - acc: 0.9162 - val_loss: 2.4162 - val_acc: 0.4292\n",
      "Epoch 25/50\n",
      "199/199 - 36s - loss: 0.3371 - acc: 0.9318 - val_loss: 2.4850 - val_acc: 0.4334\n",
      "Epoch 26/50\n",
      "199/199 - 43s - loss: 0.2850 - acc: 0.9474 - val_loss: 2.5825 - val_acc: 0.4278\n",
      "Epoch 27/50\n",
      "199/199 - 43s - loss: 0.2577 - acc: 0.9559 - val_loss: 2.6159 - val_acc: 0.4348\n",
      "Epoch 28/50\n",
      "199/199 - 40s - loss: 0.2243 - acc: 0.9655 - val_loss: 2.6505 - val_acc: 0.4334\n",
      "Epoch 29/50\n",
      "199/199 - 39s - loss: 0.1911 - acc: 0.9729 - val_loss: 2.6754 - val_acc: 0.4306\n",
      "Epoch 30/50\n",
      "199/199 - 40s - loss: 0.1764 - acc: 0.9743 - val_loss: 2.7334 - val_acc: 0.4207\n",
      "Epoch 31/50\n",
      "199/199 - 39s - loss: 0.1505 - acc: 0.9816 - val_loss: 2.7983 - val_acc: 0.4249\n",
      "Epoch 32/50\n",
      "199/199 - 35s - loss: 0.1364 - acc: 0.9839 - val_loss: 2.8584 - val_acc: 0.4150\n",
      "Epoch 33/50\n",
      "199/199 - 40s - loss: 0.1224 - acc: 0.9852 - val_loss: 2.8732 - val_acc: 0.4348\n",
      "Epoch 34/50\n",
      "199/199 - 38s - loss: 0.1175 - acc: 0.9866 - val_loss: 2.8912 - val_acc: 0.4391\n",
      "Epoch 35/50\n",
      "199/199 - 41s - loss: 0.1060 - acc: 0.9858 - val_loss: 2.9495 - val_acc: 0.4263\n",
      "Epoch 36/50\n",
      "199/199 - 43s - loss: 0.0934 - acc: 0.9902 - val_loss: 2.9820 - val_acc: 0.4334\n",
      "Epoch 37/50\n",
      "199/199 - 35s - loss: 0.0949 - acc: 0.9866 - val_loss: 3.0084 - val_acc: 0.4235\n",
      "Epoch 38/50\n",
      "199/199 - 33s - loss: 0.0881 - acc: 0.9899 - val_loss: 3.0018 - val_acc: 0.4334\n",
      "Epoch 39/50\n",
      "199/199 - 32s - loss: 0.0744 - acc: 0.9924 - val_loss: 3.0526 - val_acc: 0.4292\n",
      "Epoch 40/50\n",
      "199/199 - 32s - loss: 0.0693 - acc: 0.9916 - val_loss: 3.1025 - val_acc: 0.4249\n",
      "Epoch 41/50\n",
      "199/199 - 33s - loss: 0.0677 - acc: 0.9932 - val_loss: 3.1629 - val_acc: 0.4235\n",
      "Epoch 42/50\n",
      "199/199 - 32s - loss: 0.0635 - acc: 0.9931 - val_loss: 3.2066 - val_acc: 0.4221\n",
      "Epoch 43/50\n",
      "199/199 - 32s - loss: 0.0702 - acc: 0.9888 - val_loss: 3.1879 - val_acc: 0.4193\n",
      "Epoch 44/50\n",
      "199/199 - 32s - loss: 0.0685 - acc: 0.9901 - val_loss: 3.2410 - val_acc: 0.4249\n",
      "Epoch 45/50\n",
      "199/199 - 33s - loss: 0.0562 - acc: 0.9943 - val_loss: 3.2652 - val_acc: 0.4263\n",
      "Epoch 46/50\n",
      "199/199 - 32s - loss: 0.0505 - acc: 0.9946 - val_loss: 3.3362 - val_acc: 0.4178\n",
      "Epoch 47/50\n",
      "199/199 - 32s - loss: 0.0556 - acc: 0.9929 - val_loss: 3.3138 - val_acc: 0.4235\n",
      "Epoch 48/50\n",
      "199/199 - 34s - loss: 0.0524 - acc: 0.9932 - val_loss: 3.3676 - val_acc: 0.4320\n",
      "Epoch 49/50\n",
      "199/199 - 39s - loss: 0.0426 - acc: 0.9954 - val_loss: 3.3786 - val_acc: 0.4136\n",
      "Epoch 50/50\n",
      "199/199 - 34s - loss: 0.0420 - acc: 0.9962 - val_loss: 3.4324 - val_acc: 0.4292\n"
     ]
    },
    {
     "data": {
      "text/plain": [
       "<tensorflow.python.keras.callbacks.History at 0x1d12f5a9790>"
      ]
     },
     "execution_count": 69,
     "metadata": {},
     "output_type": "execute_result"
    }
   ],
   "source": [
    "# define model\n",
    "model = Sequential()\n",
    "model.add(Embedding(vocab, 50, input_length=30, trainable=True))\n",
    "model.add(Bidirectional(LSTM(150, recurrent_dropout=0.1, dropout=0.1)))\n",
    "model.add(Dense(vocab, activation='softmax'))\n",
    "print(model.summary())\n",
    "\n",
    "# compile the model\n",
    "model.compile(loss='categorical_crossentropy', metrics=['acc'], optimizer='adam')\n",
    "# fit the model\n",
    "model.fit(X_tr, y_tr, epochs=50, verbose=2, validation_data=(X_val, y_val))"
   ]
  },
  {
   "cell_type": "code",
   "execution_count": 70,
   "metadata": {},
   "outputs": [],
   "source": [
    "def generate_seq(model, mapping, seq_length, seed_text, n_chars):\n",
    "\tin_text = seed_text\n",
    "\t# generate a fixed number of characters\n",
    "\tfor _ in range(n_chars):\n",
    "\t\t# encode the characters as integers\n",
    "\t\tencoded = [mapping[char] for char in in_text]\n",
    "\t\t# truncate sequences to a fixed length\n",
    "\t\tencoded = pad_sequences([encoded], maxlen=seq_length, truncating='pre')\n",
    "\t\t# predict character\n",
    "\t\tyhat = model.predict_classes(encoded, verbose=0)\n",
    "\t\t# reverse map integer to character\n",
    "\t\tout_char = ''\n",
    "\t\tfor char, index in mapping.items():\n",
    "\t\t\tif index == yhat:\n",
    "\t\t\t\tout_char = char\n",
    "\t\t\t\tbreak\n",
    "\t\t# append to input\n",
    "\t\tin_text += char\n",
    "\treturn in_text"
   ]
  },
  {
   "cell_type": "code",
   "execution_count": 72,
   "metadata": {},
   "outputs": [
    {
     "name": "stdout",
     "output_type": "stream",
     "text": [
      "the unanimous declaration the t\n"
     ]
    }
   ],
   "source": [
    "predicted = generate_seq(model , mapping , 30 , 'the unanimous declaration the ' , 1)\n",
    "print(predicted)"
   ]
  },
  {
   "cell_type": "code",
   "execution_count": 73,
   "metadata": {},
   "outputs": [
    {
     "name": "stdout",
     "output_type": "stream",
     "text": [
      "e unanimous declaration the thi\n"
     ]
    }
   ],
   "source": [
    "predicted = generate_seq(model , mapping , 30 , 'e unanimous declaration the th' , 1)\n",
    "print(predicted)"
   ]
  },
  {
   "cell_type": "code",
   "execution_count": 74,
   "metadata": {},
   "outputs": [
    {
     "name": "stdout",
     "output_type": "stream",
     "text": [
      "unanimous declaration the thirt\n"
     ]
    }
   ],
   "source": [
    "predicted = generate_seq(model , mapping , 30 , 'unanimous declaration the thir' , 1)\n",
    "print(predicted)"
   ]
  },
  {
   "cell_type": "code",
   "execution_count": 75,
   "metadata": {},
   "outputs": [
    {
     "name": "stdout",
     "output_type": "stream",
     "text": [
      "nimous declaration the thirteen\n"
     ]
    }
   ],
   "source": [
    "predicted = generate_seq(model , mapping , 30 , 'nimous declaration the thirtee' , 1)\n",
    "print(predicted)"
   ]
  },
  {
   "cell_type": "markdown",
   "metadata": {},
   "source": [
    "## Waooo it works !!!"
   ]
  },
  {
   "cell_type": "code",
   "execution_count": null,
   "metadata": {},
   "outputs": [],
   "source": []
  }
 ],
 "metadata": {
  "kernelspec": {
   "display_name": "Python 3",
   "language": "python",
   "name": "python3"
  },
  "language_info": {
   "codemirror_mode": {
    "name": "ipython",
    "version": 3
   },
   "file_extension": ".py",
   "mimetype": "text/x-python",
   "name": "python",
   "nbconvert_exporter": "python",
   "pygments_lexer": "ipython3",
   "version": "3.8.5"
  }
 },
 "nbformat": 4,
 "nbformat_minor": 4
}
